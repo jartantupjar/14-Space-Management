{
 "cells": [
  {
   "cell_type": "code",
   "execution_count": 1,
   "metadata": {},
   "outputs": [],
   "source": [
    "import pandas as pd\n",
    "import numpy as np\n",
    "from IPython.display import display"
   ]
  },
  {
   "cell_type": "code",
   "execution_count": 2,
   "metadata": {},
   "outputs": [
    {
     "data": {
      "text/html": [
       "<div>\n",
       "<style scoped>\n",
       "    .dataframe tbody tr th:only-of-type {\n",
       "        vertical-align: middle;\n",
       "    }\n",
       "\n",
       "    .dataframe tbody tr th {\n",
       "        vertical-align: top;\n",
       "    }\n",
       "\n",
       "    .dataframe thead th {\n",
       "        text-align: right;\n",
       "    }\n",
       "</style>\n",
       "<table border=\"1\" class=\"dataframe\">\n",
       "  <thead>\n",
       "    <tr style=\"text-align: right;\">\n",
       "      <th></th>\n",
       "      <th>Country</th>\n",
       "      <th>Location</th>\n",
       "      <th>Resource Type</th>\n",
       "      <th>floor</th>\n",
       "      <th>Department</th>\n",
       "      <th>seatName</th>\n",
       "      <th>Space</th>\n",
       "      <th>Datetime</th>\n",
       "    </tr>\n",
       "  </thead>\n",
       "  <tbody>\n",
       "    <tr>\n",
       "      <th>0</th>\n",
       "      <td>India</td>\n",
       "      <td>Tower 2</td>\n",
       "      <td>Desk</td>\n",
       "      <td>Level 9</td>\n",
       "      <td>Sky Branch</td>\n",
       "      <td>B5_9_1_02</td>\n",
       "      <td>0</td>\n",
       "      <td>2018-03-01</td>\n",
       "    </tr>\n",
       "    <tr>\n",
       "      <th>1</th>\n",
       "      <td>India</td>\n",
       "      <td>Tower 2</td>\n",
       "      <td>Desk</td>\n",
       "      <td>Level 9</td>\n",
       "      <td>Sky Branch</td>\n",
       "      <td>B5_9_2_02</td>\n",
       "      <td>0</td>\n",
       "      <td>2018-03-01</td>\n",
       "    </tr>\n",
       "    <tr>\n",
       "      <th>2</th>\n",
       "      <td>India</td>\n",
       "      <td>Tower 2</td>\n",
       "      <td>Desk</td>\n",
       "      <td>Level 9</td>\n",
       "      <td>Sky Branch</td>\n",
       "      <td>B5_9_2_07</td>\n",
       "      <td>0</td>\n",
       "      <td>2018-03-01</td>\n",
       "    </tr>\n",
       "  </tbody>\n",
       "</table>\n",
       "</div>"
      ],
      "text/plain": [
       "  Country Location Resource Type    floor  Department   seatName  Space  \\\n",
       "0   India  Tower 2          Desk  Level 9  Sky Branch  B5_9_1_02      0   \n",
       "1   India  Tower 2          Desk  Level 9  Sky Branch  B5_9_2_02      0   \n",
       "2   India  Tower 2          Desk  Level 9  Sky Branch  B5_9_2_07      0   \n",
       "\n",
       "    Datetime  \n",
       "0 2018-03-01  \n",
       "1 2018-03-01  \n",
       "2 2018-03-01  "
      ]
     },
     "execution_count": 2,
     "metadata": {},
     "output_type": "execute_result"
    }
   ],
   "source": [
    "import pickle\n",
    "data=pickle.load(open('processed_data.p', \"rb\" ))\n",
    "data.head(3)"
   ]
  },
  {
   "cell_type": "code",
   "execution_count": 3,
   "metadata": {
    "scrolled": true
   },
   "outputs": [
    {
     "name": "stdout",
     "output_type": "stream",
     "text": [
      "4464\n"
     ]
    }
   ],
   "source": [
    "trial_data=data.loc[data['seatName']=='B5_9_1_05']\n",
    "print(len(trial_data))\n",
    "trial_data=trial_data.sort_values(['Datetime'])\n",
    "trial_data=trial_data.drop(['Country','Location','Resource Type','floor','Department','seatName'],axis=1)\n",
    "#trial_data.set_index('Datetime',inplace=True)"
   ]
  },
  {
   "cell_type": "code",
   "execution_count": 4,
   "metadata": {
    "scrolled": true
   },
   "outputs": [
    {
     "name": "stdout",
     "output_type": "stream",
     "text": [
      "3456 1008\n"
     ]
    }
   ],
   "source": [
    "train_data,test_data=trial_data.loc[trial_data['Datetime']<'2018-03-25'], trial_data.loc[trial_data['Datetime']>='2018-03-25']\n",
    "print(len(train_data),len(test_data))"
   ]
  },
  {
   "cell_type": "code",
   "execution_count": 5,
   "metadata": {},
   "outputs": [],
   "source": [
    "# convert an array of values into a dataset matrix\n",
    "def create_dataset(dataset,look_back=1):\n",
    "    dataX, dataY = [], []\n",
    "    for i in range(len(dataset)-look_back-1):\n",
    "        a = dataset[i:(i+look_back), 0]\n",
    "        dataX.append(a)\n",
    "        dataY.append(dataset[i + look_back, 0])\n",
    "    return np.array(dataX), np.array(dataY)"
   ]
  },
  {
   "cell_type": "code",
   "execution_count": 7,
   "metadata": {},
   "outputs": [],
   "source": [
    "# reshape into X=t and Y=t+1\n",
    "look_back = 1\n",
    "X_train, y_train= create_dataset(train_data.values, look_back)\n",
    "X_test, y_test = create_dataset(test_data.values, look_back)\n",
    "#y_test_time=timeseries_to_supervised(test_data,look_back)\n",
    "#y_test_time.columns=['X','Date',  'y', 'Date_shift']\n",
    "#X_test, y_test=y_test_time['X'].values,y_test_time['y'].values\n",
    "#X_test, y_test=np.array(X_test),np.array(y_test)\n",
    "#display(y_test_time.head(3))"
   ]
  },
  {
   "cell_type": "code",
   "execution_count": 9,
   "metadata": {},
   "outputs": [],
   "source": [
    "#print(len(y_test),len(y_test_time['Date_shift']))"
   ]
  },
  {
   "cell_type": "code",
   "execution_count": 10,
   "metadata": {},
   "outputs": [
    {
     "data": {
      "text/plain": [
       "((3454, 1), (1006, 1))"
      ]
     },
     "execution_count": 10,
     "metadata": {},
     "output_type": "execute_result"
    }
   ],
   "source": [
    "X_train.shape,X_test.shape"
   ]
  },
  {
   "cell_type": "code",
   "execution_count": null,
   "metadata": {},
   "outputs": [],
   "source": []
  },
  {
   "cell_type": "code",
   "execution_count": 11,
   "metadata": {},
   "outputs": [],
   "source": [
    "# reshape input to be [samples, time steps, features]\n",
    "X_train = np.reshape(X_train, (X_train.shape[0], 1, X_train.shape[1]))\n",
    "X_test = np.reshape(X_test, (X_test.shape[0], 1, X_test.shape[1]))"
   ]
  },
  {
   "cell_type": "code",
   "execution_count": 12,
   "metadata": {
    "scrolled": true
   },
   "outputs": [
    {
     "name": "stderr",
     "output_type": "stream",
     "text": [
      "C:\\Users\\ndrs\\Anaconda3\\lib\\site-packages\\h5py\\__init__.py:34: FutureWarning: Conversion of the second argument of issubdtype from `float` to `np.floating` is deprecated. In future, it will be treated as `np.float64 == np.dtype(float).type`.\n",
      "  from ._conv import register_converters as _register_converters\n",
      "Using TensorFlow backend.\n"
     ]
    },
    {
     "name": "stdout",
     "output_type": "stream",
     "text": [
      "WARNING:tensorflow:From C:\\Users\\ndrs\\Anaconda3\\lib\\site-packages\\keras\\backend\\tensorflow_backend.py:1247: calling reduce_sum (from tensorflow.python.ops.math_ops) with keep_dims is deprecated and will be removed in a future version.\n",
      "Instructions for updating:\n",
      "keep_dims is deprecated, use keepdims instead\n",
      "WARNING:tensorflow:From C:\\Users\\ndrs\\Anaconda3\\lib\\site-packages\\keras\\backend\\tensorflow_backend.py:1349: calling reduce_mean (from tensorflow.python.ops.math_ops) with keep_dims is deprecated and will be removed in a future version.\n",
      "Instructions for updating:\n",
      "keep_dims is deprecated, use keepdims instead\n",
      "Train on 3454 samples, validate on 1006 samples\n",
      "Epoch 1/100\n",
      "3454/3454 [==============================] - 4s 1ms/step - loss: 0.6646 - acc: 0.8804 - val_loss: 0.6341 - val_acc: 0.8588\n",
      "Epoch 2/100\n",
      "3454/3454 [==============================] - 1s 210us/step - loss: 0.5928 - acc: 0.8804 - val_loss: 0.5575 - val_acc: 0.8588\n",
      "Epoch 3/100\n",
      "3454/3454 [==============================] - 1s 222us/step - loss: 0.5065 - acc: 0.8804 - val_loss: 0.4732 - val_acc: 0.8588\n",
      "Epoch 4/100\n",
      "3454/3454 [==============================] - 1s 237us/step - loss: 0.4213 - acc: 0.8804 - val_loss: 0.3994 - val_acc: 0.8588\n",
      "Epoch 5/100\n",
      "3454/3454 [==============================] - 1s 226us/step - loss: 0.3524 - acc: 0.8804 - val_loss: 0.3437 - val_acc: 0.8588\n",
      "Epoch 6/100\n",
      "3454/3454 [==============================] - 1s 209us/step - loss: 0.3015 - acc: 0.8804 - val_loss: 0.3027 - val_acc: 0.8588\n",
      "Epoch 7/100\n",
      "3454/3454 [==============================] - 1s 205us/step - loss: 0.2641 - acc: 0.8804 - val_loss: 0.2718 - val_acc: 0.8588\n",
      "Epoch 8/100\n",
      "3454/3454 [==============================] - 1s 241us/step - loss: 0.2363 - acc: 0.9241 - val_loss: 0.2490 - val_acc: 0.9364\n",
      "Epoch 9/100\n",
      "3454/3454 [==============================] - 1s 224us/step - loss: 0.2163 - acc: 0.9479 - val_loss: 0.2333 - val_acc: 0.9364\n",
      "Epoch 10/100\n",
      "3454/3454 [==============================] - 1s 208us/step - loss: 0.2028 - acc: 0.9479 - val_loss: 0.2234 - val_acc: 0.9364\n",
      "Epoch 11/100\n",
      "3454/3454 [==============================] - 1s 208us/step - loss: 0.1941 - acc: 0.9479 - val_loss: 0.2176 - val_acc: 0.9364\n",
      "Epoch 12/100\n",
      "3454/3454 [==============================] - 1s 212us/step - loss: 0.1887 - acc: 0.9479 - val_loss: 0.2144 - val_acc: 0.9364\n",
      "Epoch 13/100\n",
      "3454/3454 [==============================] - 1s 234us/step - loss: 0.1855 - acc: 0.9479 - val_loss: 0.2127 - val_acc: 0.9364\n",
      "Epoch 14/100\n",
      "3454/3454 [==============================] - 1s 216us/step - loss: 0.1836 - acc: 0.9479 - val_loss: 0.2119 - val_acc: 0.9364\n",
      "Epoch 15/100\n",
      "3454/3454 [==============================] - 1s 221us/step - loss: 0.1824 - acc: 0.9479 - val_loss: 0.2115 - val_acc: 0.9364\n",
      "Epoch 16/100\n",
      "3454/3454 [==============================] - 1s 250us/step - loss: 0.1817 - acc: 0.9479 - val_loss: 0.2114 - val_acc: 0.9364\n",
      "Epoch 17/100\n",
      "3454/3454 [==============================] - 1s 270us/step - loss: 0.1813 - acc: 0.9479 - val_loss: 0.2114 - val_acc: 0.9364\n",
      "Epoch 18/100\n",
      "3454/3454 [==============================] - 1s 254us/step - loss: 0.1810 - acc: 0.9479 - val_loss: 0.2115 - val_acc: 0.9364\n",
      "Epoch 19/100\n",
      "3454/3454 [==============================] - 1s 267us/step - loss: 0.1808 - acc: 0.9479 - val_loss: 0.2115 - val_acc: 0.9364\n",
      "Epoch 20/100\n",
      "3454/3454 [==============================] - 1s 279us/step - loss: 0.1807 - acc: 0.9479 - val_loss: 0.2116 - val_acc: 0.9364\n",
      "Epoch 21/100\n",
      "3454/3454 [==============================] - 1s 255us/step - loss: 0.1807 - acc: 0.9479 - val_loss: 0.2117 - val_acc: 0.9364\n",
      "Epoch 22/100\n",
      "3454/3454 [==============================] - 1s 222us/step - loss: 0.1806 - acc: 0.9479 - val_loss: 0.2117 - val_acc: 0.9364\n",
      "Epoch 23/100\n",
      "3454/3454 [==============================] - 1s 209us/step - loss: 0.1806 - acc: 0.9479 - val_loss: 0.2118 - val_acc: 0.9364\n",
      "Epoch 24/100\n",
      "3454/3454 [==============================] - 1s 239us/step - loss: 0.1806 - acc: 0.9479 - val_loss: 0.2118 - val_acc: 0.9364\n",
      "Epoch 25/100\n",
      "3454/3454 [==============================] - 1s 227us/step - loss: 0.1806 - acc: 0.9479 - val_loss: 0.2118 - val_acc: 0.9364\n",
      "Epoch 26/100\n",
      "3454/3454 [==============================] - 1s 214us/step - loss: 0.1806 - acc: 0.9479 - val_loss: 0.2119 - val_acc: 0.9364\n",
      "Epoch 27/100\n",
      "3454/3454 [==============================] - 1s 212us/step - loss: 0.1805 - acc: 0.9479 - val_loss: 0.2119 - val_acc: 0.9364\n",
      "Epoch 28/100\n",
      "3454/3454 [==============================] - 1s 211us/step - loss: 0.1805 - acc: 0.9479 - val_loss: 0.2119 - val_acc: 0.9364\n",
      "Epoch 29/100\n",
      "3454/3454 [==============================] - 1s 260us/step - loss: 0.1805 - acc: 0.9479 - val_loss: 0.2119 - val_acc: 0.9364\n",
      "Epoch 30/100\n",
      "3454/3454 [==============================] - 1s 222us/step - loss: 0.1805 - acc: 0.9479 - val_loss: 0.2119 - val_acc: 0.9364\n",
      "Epoch 31/100\n",
      "3454/3454 [==============================] - 1s 215us/step - loss: 0.1805 - acc: 0.9479 - val_loss: 0.2119 - val_acc: 0.9364\n",
      "Epoch 32/100\n",
      "3454/3454 [==============================] - 1s 287us/step - loss: 0.1805 - acc: 0.9479 - val_loss: 0.2119 - val_acc: 0.9364\n",
      "Epoch 33/100\n",
      "3454/3454 [==============================] - 1s 204us/step - loss: 0.1805 - acc: 0.9479 - val_loss: 0.2119 - val_acc: 0.9364\n",
      "Epoch 34/100\n",
      "3454/3454 [==============================] - 1s 271us/step - loss: 0.1805 - acc: 0.9479 - val_loss: 0.2119 - val_acc: 0.9364\n",
      "Epoch 35/100\n",
      "3454/3454 [==============================] - 1s 245us/step - loss: 0.1805 - acc: 0.9479 - val_loss: 0.2119 - val_acc: 0.9364\n",
      "Epoch 36/100\n",
      "3454/3454 [==============================] - 1s 283us/step - loss: 0.1805 - acc: 0.9479 - val_loss: 0.2119 - val_acc: 0.9364\n",
      "Epoch 37/100\n",
      "3454/3454 [==============================] - 1s 258us/step - loss: 0.1805 - acc: 0.9479 - val_loss: 0.2119 - val_acc: 0.9364\n",
      "Epoch 38/100\n",
      "3454/3454 [==============================] - 1s 211us/step - loss: 0.1805 - acc: 0.9479 - val_loss: 0.2119 - val_acc: 0.9364\n",
      "Epoch 39/100\n",
      "3454/3454 [==============================] - 1s 246us/step - loss: 0.1806 - acc: 0.9479 - val_loss: 0.2119 - val_acc: 0.9364\n",
      "Epoch 40/100\n",
      "3454/3454 [==============================] - 1s 211us/step - loss: 0.1806 - acc: 0.9479 - val_loss: 0.2119 - val_acc: 0.9364\n",
      "Epoch 41/100\n",
      "3454/3454 [==============================] - 1s 213us/step - loss: 0.1806 - acc: 0.9479 - val_loss: 0.2119 - val_acc: 0.9364\n",
      "Epoch 42/100\n",
      "3454/3454 [==============================] - 1s 195us/step - loss: 0.1806 - acc: 0.9479 - val_loss: 0.2119 - val_acc: 0.9364\n",
      "Epoch 43/100\n",
      "3454/3454 [==============================] - 1s 196us/step - loss: 0.1806 - acc: 0.9479 - val_loss: 0.2119 - val_acc: 0.9364\n",
      "Epoch 44/100\n",
      "3454/3454 [==============================] - 1s 195us/step - loss: 0.1806 - acc: 0.9479 - val_loss: 0.2119 - val_acc: 0.9364\n",
      "Epoch 45/100\n",
      "3454/3454 [==============================] - 1s 195us/step - loss: 0.1806 - acc: 0.9479 - val_loss: 0.2119 - val_acc: 0.9364\n",
      "Epoch 46/100\n",
      "3454/3454 [==============================] - 1s 193us/step - loss: 0.1806 - acc: 0.9479 - val_loss: 0.2119 - val_acc: 0.9364\n",
      "Epoch 47/100\n",
      "3454/3454 [==============================] - 1s 191us/step - loss: 0.1806 - acc: 0.9479 - val_loss: 0.2119 - val_acc: 0.9364\n",
      "Epoch 48/100\n",
      "3454/3454 [==============================] - 1s 189us/step - loss: 0.1806 - acc: 0.9479 - val_loss: 0.2119 - val_acc: 0.9364\n",
      "Epoch 49/100\n",
      "3454/3454 [==============================] - 1s 195us/step - loss: 0.1806 - acc: 0.9479 - val_loss: 0.2119 - val_acc: 0.9364\n",
      "Epoch 50/100\n",
      "3454/3454 [==============================] - 1s 197us/step - loss: 0.1806 - acc: 0.9479 - val_loss: 0.2119 - val_acc: 0.9364\n",
      "Epoch 51/100\n",
      "3454/3454 [==============================] - 1s 234us/step - loss: 0.1806 - acc: 0.9479 - val_loss: 0.2119 - val_acc: 0.9364\n",
      "Epoch 52/100\n",
      "3454/3454 [==============================] - 1s 202us/step - loss: 0.1806 - acc: 0.9479 - val_loss: 0.2119 - val_acc: 0.9364\n",
      "Epoch 53/100\n",
      "3454/3454 [==============================] - 1s 233us/step - loss: 0.1806 - acc: 0.9479 - val_loss: 0.2119 - val_acc: 0.9364\n",
      "Epoch 54/100\n",
      "3454/3454 [==============================] - 1s 251us/step - loss: 0.1806 - acc: 0.9479 - val_loss: 0.2119 - val_acc: 0.9364\n",
      "Epoch 55/100\n"
     ]
    },
    {
     "name": "stdout",
     "output_type": "stream",
     "text": [
      "3454/3454 [==============================] - 1s 278us/step - loss: 0.1806 - acc: 0.9479 - val_loss: 0.2119 - val_acc: 0.9364\n",
      "Epoch 56/100\n",
      "3454/3454 [==============================] - 1s 245us/step - loss: 0.1806 - acc: 0.9479 - val_loss: 0.2119 - val_acc: 0.9364\n",
      "Epoch 57/100\n",
      "3454/3454 [==============================] - 1s 214us/step - loss: 0.1806 - acc: 0.9479 - val_loss: 0.2119 - val_acc: 0.9364\n",
      "Epoch 58/100\n",
      "3454/3454 [==============================] - 1s 263us/step - loss: 0.1806 - acc: 0.9479 - val_loss: 0.2119 - val_acc: 0.9364\n",
      "Epoch 59/100\n",
      "3454/3454 [==============================] - 1s 222us/step - loss: 0.1806 - acc: 0.9479 - val_loss: 0.2119 - val_acc: 0.9364\n",
      "Epoch 60/100\n",
      "3454/3454 [==============================] - 1s 196us/step - loss: 0.1806 - acc: 0.9479 - val_loss: 0.2119 - val_acc: 0.9364\n",
      "Epoch 61/100\n",
      "3454/3454 [==============================] - 1s 220us/step - loss: 0.1806 - acc: 0.9479 - val_loss: 0.2119 - val_acc: 0.9364\n",
      "Epoch 62/100\n",
      "3454/3454 [==============================] - 1s 234us/step - loss: 0.1806 - acc: 0.9479 - val_loss: 0.2119 - val_acc: 0.9364\n",
      "Epoch 63/100\n",
      "3454/3454 [==============================] - 1s 220us/step - loss: 0.1806 - acc: 0.9479 - val_loss: 0.2119 - val_acc: 0.9364\n",
      "Epoch 64/100\n",
      "3454/3454 [==============================] - 1s 230us/step - loss: 0.1806 - acc: 0.9479 - val_loss: 0.2119 - val_acc: 0.9364\n",
      "Epoch 65/100\n",
      "3454/3454 [==============================] - 1s 246us/step - loss: 0.1806 - acc: 0.9479 - val_loss: 0.2119 - val_acc: 0.9364\n",
      "Epoch 66/100\n",
      "3454/3454 [==============================] - 1s 233us/step - loss: 0.1806 - acc: 0.9479 - val_loss: 0.2119 - val_acc: 0.9364\n",
      "Epoch 67/100\n",
      "3454/3454 [==============================] - 1s 206us/step - loss: 0.1806 - acc: 0.9479 - val_loss: 0.2119 - val_acc: 0.9364\n",
      "Epoch 68/100\n",
      "3454/3454 [==============================] - 1s 216us/step - loss: 0.1806 - acc: 0.9479 - val_loss: 0.2119 - val_acc: 0.9364\n",
      "Epoch 69/100\n",
      "3454/3454 [==============================] - 1s 186us/step - loss: 0.1806 - acc: 0.9479 - val_loss: 0.2119 - val_acc: 0.9364\n",
      "Epoch 70/100\n",
      "3454/3454 [==============================] - 1s 197us/step - loss: 0.1806 - acc: 0.9479 - val_loss: 0.2119 - val_acc: 0.9364\n",
      "Epoch 71/100\n",
      "3454/3454 [==============================] - 1s 183us/step - loss: 0.1806 - acc: 0.9479 - val_loss: 0.2119 - val_acc: 0.9364\n",
      "Epoch 72/100\n",
      "3454/3454 [==============================] - 1s 205us/step - loss: 0.1806 - acc: 0.9479 - val_loss: 0.2119 - val_acc: 0.9364\n",
      "Epoch 73/100\n",
      "3454/3454 [==============================] - 1s 196us/step - loss: 0.1806 - acc: 0.9479 - val_loss: 0.2119 - val_acc: 0.9364\n",
      "Epoch 74/100\n",
      "3454/3454 [==============================] - 1s 220us/step - loss: 0.1806 - acc: 0.9479 - val_loss: 0.2119 - val_acc: 0.9364\n",
      "Epoch 75/100\n",
      "3454/3454 [==============================] - 1s 213us/step - loss: 0.1806 - acc: 0.9479 - val_loss: 0.2119 - val_acc: 0.9364\n",
      "Epoch 76/100\n",
      "3454/3454 [==============================] - 1s 194us/step - loss: 0.1806 - acc: 0.9479 - val_loss: 0.2119 - val_acc: 0.9364\n",
      "Epoch 77/100\n",
      "3454/3454 [==============================] - 1s 208us/step - loss: 0.1806 - acc: 0.9479 - val_loss: 0.2119 - val_acc: 0.9364\n",
      "Epoch 78/100\n",
      "3454/3454 [==============================] - 1s 238us/step - loss: 0.1806 - acc: 0.9479 - val_loss: 0.2119 - val_acc: 0.9364\n",
      "Epoch 79/100\n",
      "3454/3454 [==============================] - 1s 233us/step - loss: 0.1806 - acc: 0.9479 - val_loss: 0.2119 - val_acc: 0.9364\n",
      "Epoch 80/100\n",
      "3454/3454 [==============================] - 1s 204us/step - loss: 0.1806 - acc: 0.9479 - val_loss: 0.2119 - val_acc: 0.9364\n",
      "Epoch 81/100\n",
      "3454/3454 [==============================] - 1s 212us/step - loss: 0.1806 - acc: 0.9479 - val_loss: 0.2119 - val_acc: 0.9364\n",
      "Epoch 82/100\n",
      "3454/3454 [==============================] - 1s 278us/step - loss: 0.1806 - acc: 0.9479 - val_loss: 0.2119 - val_acc: 0.9364\n",
      "Epoch 83/100\n",
      "3454/3454 [==============================] - 1s 199us/step - loss: 0.1806 - acc: 0.9479 - val_loss: 0.2119 - val_acc: 0.9364\n",
      "Epoch 84/100\n",
      "3454/3454 [==============================] - 1s 232us/step - loss: 0.1806 - acc: 0.9479 - val_loss: 0.2119 - val_acc: 0.9364\n",
      "Epoch 85/100\n",
      "3454/3454 [==============================] - 1s 225us/step - loss: 0.1806 - acc: 0.9479 - val_loss: 0.2119 - val_acc: 0.9364\n",
      "Epoch 86/100\n",
      "3454/3454 [==============================] - 1s 225us/step - loss: 0.1806 - acc: 0.9479 - val_loss: 0.2119 - val_acc: 0.9364\n",
      "Epoch 87/100\n",
      "3454/3454 [==============================] - 1s 221us/step - loss: 0.1806 - acc: 0.9479 - val_loss: 0.2119 - val_acc: 0.9364\n",
      "Epoch 88/100\n",
      "3454/3454 [==============================] - 1s 293us/step - loss: 0.1806 - acc: 0.9479 - val_loss: 0.2119 - val_acc: 0.9364\n",
      "Epoch 89/100\n",
      "3454/3454 [==============================] - 1s 215us/step - loss: 0.1806 - acc: 0.9479 - val_loss: 0.2119 - val_acc: 0.9364\n",
      "Epoch 90/100\n",
      "3454/3454 [==============================] - 1s 212us/step - loss: 0.1806 - acc: 0.9479 - val_loss: 0.2119 - val_acc: 0.9364\n",
      "Epoch 91/100\n",
      "3454/3454 [==============================] - 1s 233us/step - loss: 0.1806 - acc: 0.9479 - val_loss: 0.2119 - val_acc: 0.9364\n",
      "Epoch 92/100\n",
      "3454/3454 [==============================] - 1s 199us/step - loss: 0.1806 - acc: 0.9479 - val_loss: 0.2119 - val_acc: 0.9364\n",
      "Epoch 93/100\n",
      "3454/3454 [==============================] - 1s 292us/step - loss: 0.1806 - acc: 0.9479 - val_loss: 0.2119 - val_acc: 0.9364\n",
      "Epoch 94/100\n",
      "3454/3454 [==============================] - 1s 216us/step - loss: 0.1806 - acc: 0.9479 - val_loss: 0.2119 - val_acc: 0.9364\n",
      "Epoch 95/100\n",
      "3454/3454 [==============================] - 1s 236us/step - loss: 0.1806 - acc: 0.9479 - val_loss: 0.2119 - val_acc: 0.9364\n",
      "Epoch 96/100\n",
      "3454/3454 [==============================] - 1s 222us/step - loss: 0.1806 - acc: 0.9479 - val_loss: 0.2119 - val_acc: 0.9364\n",
      "Epoch 97/100\n",
      "3454/3454 [==============================] - 1s 215us/step - loss: 0.1806 - acc: 0.9479 - val_loss: 0.2119 - val_acc: 0.9364\n",
      "Epoch 98/100\n",
      "3454/3454 [==============================] - 1s 236us/step - loss: 0.1806 - acc: 0.9479 - val_loss: 0.2119 - val_acc: 0.9364\n",
      "Epoch 99/100\n",
      "3454/3454 [==============================] - 1s 230us/step - loss: 0.1806 - acc: 0.9479 - val_loss: 0.2119 - val_acc: 0.9364\n",
      "Epoch 100/100\n",
      "3454/3454 [==============================] - 1s 209us/step - loss: 0.1806 - acc: 0.9479 - val_loss: 0.2119 - val_acc: 0.9364\n"
     ]
    },
    {
     "data": {
      "text/plain": [
       "<keras.callbacks.History at 0x2148e39d390>"
      ]
     },
     "execution_count": 12,
     "metadata": {},
     "output_type": "execute_result"
    }
   ],
   "source": [
    "from keras.models import Sequential\n",
    "from keras.layers import LSTM,Conv1D,Dense\n",
    "from keras.layers.normalization import BatchNormalization\n",
    "\n",
    "def arch():\n",
    "    seq = Sequential()\n",
    "    #seq.add(LSTM(4,input_shape=(1,look_back)))\n",
    "    seq.add(LSTM(8,input_shape=(1,look_back)))\n",
    "\n",
    "    seq.add(Dense(1, activation='sigmoid'))\n",
    "    seq.compile(loss='binary_crossentropy',\n",
    "              optimizer='adam',\n",
    "              metrics=['accuracy'])\n",
    "    return seq\n",
    "\n",
    "\n",
    "model=arch()\n",
    "batch_size = 32\n",
    "model.fit(X_train, y_train,\n",
    "          batch_size=batch_size,\n",
    "          epochs=100,shuffle=False,\n",
    "          validation_data=(X_test, y_test))"
   ]
  },
  {
   "cell_type": "code",
   "execution_count": 75,
   "metadata": {},
   "outputs": [
    {
     "name": "stdout",
     "output_type": "stream",
     "text": [
      "1006/1006 [==============================] - 0s 84us/step\n",
      "Test score: 0.21193217906071463\n",
      "Test accuracy: 0.9363817097415507\n"
     ]
    }
   ],
   "source": [
    "score, acc = model.evaluate(X_test, y_test, batch_size=batch_size)\n",
    "print('Test score:', score)\n",
    "print('Test accuracy:', acc)"
   ]
  },
  {
   "cell_type": "code",
   "execution_count": 84,
   "metadata": {},
   "outputs": [
    {
     "data": {
      "text/plain": [
       "(1006, 0)"
      ]
     },
     "execution_count": 84,
     "metadata": {},
     "output_type": "execute_result"
    }
   ],
   "source": [
    "testPredict = model.predict(X_test)\n",
    "len(testPredict),len(time_series)"
   ]
  },
  {
   "cell_type": "code",
   "execution_count": 103,
   "metadata": {},
   "outputs": [
    {
     "name": "stderr",
     "output_type": "stream",
     "text": [
      "C:\\Users\\ndrs\\Anaconda3\\lib\\site-packages\\ipykernel_launcher.py:3: SettingWithCopyWarning: \n",
      "A value is trying to be set on a copy of a slice from a DataFrame.\n",
      "Try using .loc[row_indexer,col_indexer] = value instead\n",
      "\n",
      "See the caveats in the documentation: http://pandas.pydata.org/pandas-docs/stable/indexing.html#indexing-view-versus-copy\n",
      "  This is separate from the ipykernel package so we can avoid doing imports until\n"
     ]
    }
   ],
   "source": [
    "time_series=test_data[-1007:-1]\n",
    "#time_series.drop(time_series[1:-1],axis=0)\n",
    "time_series['Pred']=testPredict\n",
    "time_series.set_index('Datetime',inplace=True)\n",
    "#y_test_time['pred']=testPredict\n",
    "#pd.concat([,testPredict],axis=1)"
   ]
  },
  {
   "cell_type": "code",
   "execution_count": 106,
   "metadata": {},
   "outputs": [
    {
     "data": {
      "image/png": "[encoded data removed]",
      "text/plain": [
       "<Figure size 432x288 with 1 Axes>"
      ]
     },
     "metadata": {},
     "output_type": "display_data"
    }
   ],
   "source": [
    "import matplotlib.pyplot as plt\n",
    "time_series.plot();"
   ]
  },
  {
   "cell_type": "code",
   "execution_count": 107,
   "metadata": {},
   "outputs": [
    {
     "data": {
      "image/png": "[encoded data removed]",
      "text/plain": [
       "<Figure size 432x288 with 1 Axes>"
      ]
     },
     "metadata": {},
     "output_type": "display_data"
    }
   ],
   "source": [
    "time_series[300:400].plot();"
   ]
  },
  {
   "cell_type": "code",
   "execution_count": 105,
   "metadata": {},
   "outputs": [
    {
     "data": {
      "image/png": "[encoded data removed]",
      "text/plain": [
       "<Figure size 432x288 with 1 Axes>"
      ]
     },
     "metadata": {},
     "output_type": "display_data"
    }
   ],
   "source": [
    "plt.plot(testPredict[300:400],color='r')\n",
    "plt.plot(y_test[300:400])\n",
    "plt.show();"
   ]
  },
  {
   "cell_type": "code",
   "execution_count": null,
   "metadata": {},
   "outputs": [],
   "source": []
  }
 ],
 "metadata": {
  "kernelspec": {
   "display_name": "Python 3",
   "language": "python",
   "name": "python3"
  },
  "language_info": {
   "codemirror_mode": {
    "name": "ipython",
    "version": 3
   },
   "file_extension": ".py",
   "mimetype": "text/x-python",
   "name": "python",
   "nbconvert_exporter": "python",
   "pygments_lexer": "ipython3",
   "version": "3.6.1"
  }
 },
 "nbformat": 4,
 "nbformat_minor": 2
}
