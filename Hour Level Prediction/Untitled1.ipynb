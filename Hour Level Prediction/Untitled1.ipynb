{
 "cells": [
  {
   "cell_type": "code",
   "execution_count": 1,
   "metadata": {},
   "outputs": [
    {
     "name": "stderr",
     "output_type": "stream",
     "text": [
      "C:\\Users\\ndrs\\Anaconda3\\lib\\site-packages\\h5py\\__init__.py:34: FutureWarning: Conversion of the second argument of issubdtype from `float` to `np.floating` is deprecated. In future, it will be treated as `np.float64 == np.dtype(float).type`.\n",
      "  from ._conv import register_converters as _register_converters\n",
      "Using TensorFlow backend.\n"
     ]
    }
   ],
   "source": [
    "import time\n",
    "import numpy as np\n",
    "from numpy import newaxis\n",
    "from keras.layers.core import Dense, Activation, Dropout\n",
    "from keras.layers import CuDNNLSTM,BatchNormalization\n",
    "from keras.layers.recurrent import LSTM\n",
    "from keras.models import Sequential\n",
    "from matplotlib import pyplot\n",
    "from matplotlib import pyplot as plt\n",
    "import pickle\n",
    "import pandas as pd"
   ]
  },
  {
   "cell_type": "code",
   "execution_count": 2,
   "metadata": {},
   "outputs": [],
   "source": [
    "def loss_plot(history):\n",
    "    pyplot.plot(history.history['loss'], label='train')\n",
    "    pyplot.plot(history.history['val_loss'], label='test')\n",
    "    pyplot.legend()\n",
    "    pyplot.show();\n",
    "def plot_results_multiple(predicted_data, true_data,x_test_date, prediction_len):\n",
    "    fig = plt.figure(facecolor='white')\n",
    "    ax = fig.add_subplot(111)\n",
    "    ax.plot(true_data, label='True Data')\n",
    "    #Pad the list of predictions to shift it in the graph to it's correct start\n",
    "    for i, data in enumerate(predicted_data):\n",
    "        padding = [None for p in range(i * prediction_len)]\n",
    "        plt.plot(padding + data, label='Prediction')\n",
    "        plt.legend()\n",
    "    plt.show();    "
   ]
  },
  {
   "cell_type": "code",
   "execution_count": null,
   "metadata": {},
   "outputs": [],
   "source": [
    "def load_data(seq_len):\n",
    "   \n",
    "   # data=pickle.load(open('processed_data.p', \"rb\" ))\n",
    "    data_list=['Barclays-Noida-3.2-Jan', 'Barclays-Noida-3.2-Feb', 'Barclays-Noida-3.2-March','Barclays-Noida-3.2-April']\n",
    "\n",
    "    for month in range(len(data_list)):\n",
    "        month_data=pickle.load(open('../../processed_data/'+data_list[month]+'.p', \"rb\" ))\n",
    "        if month==0:\n",
    "            data=month_data.copy()\n",
    "        else:\n",
    "            data=pd.concat([data,month_data])\n",
    "    data=data.drop(['Country','Department','Resource Type'],axis=1)\n",
    "\n",
    "    data=data.groupby([data.floor,data.seatName,pd.Grouper(key='Datetime',freq='H')])\n",
    "    data=data['Space'].agg([np.sum])\n",
    "    data.reset_index(inplace=True)\n",
    "    data['isOccupied']=[0 if x <3 else 1 for x in data['sum']]\n",
    "    data=data.drop(['sum'],axis=1)\n",
    "    floor_data=data.groupby([data.floor,pd.Grouper(key='Datetime',freq='H')])['isOccupied'].agg([np.sum])\n",
    "    floor_data.reset_index(inplace=True)\n",
    "    one_floor=floor_data.loc[floor_data.floor=='Level 9']\n",
    "    one_floor.set_index('Datetime',inplace=True)\n",
    "    one_floor.index.freq='H'\n",
    "    trial_data=np.array(one_floor['sum'])\n",
    "\n",
    "    \n",
    "    #Add rows to columns based on the sequence length\n",
    "    sequence_length = seq_len + 1\n",
    "    result = []\n",
    "    for index in range(len(trial_data) - sequence_length):\n",
    "        result.append(trial_data[index: index + sequence_length])\n",
    "    \n",
    "    # shape is (row)4453, (sequence length) 11\n",
    "    result = np.array(result)\n",
    "    \n",
    "    #Split data\n",
    "    print('len size',result.shape[0])\n",
    "    row = round(0.90* result.shape[0])\n",
    "    train = result[:int(row), :]\n",
    "    \n",
    "    #np.random.shuffle(train)\n",
    "    # X train keeps all the rows but removes last column, col x row(:-1)\n",
    "    x_train = train[:, :-1]\n",
    "    # y train keeps the cols with ONLY the values of the missing row (-1)\n",
    "    y_train = train[:, -1]\n",
    "    x_test = result[int(row):, :-1]\n",
    "    y_test = result[int(row):, -1]\n",
    "    print(x_train.shape,y_train.shape,x_test.shape,y_test.shape,'before reshape')\n",
    "    #reshape X train and X_test based on the required LSTM shape(samples,Timestep,Features)\n",
    "        # Samples is the number of rows (can be considered batch size)\n",
    "        # Timestep is the number of values per row (can be considered values in the batch)\n",
    "        # features is the number of variables input\n",
    "    x_train = np.reshape(x_train, (x_train.shape[0], x_train.shape[1], 1))\n",
    "    x_test = np.reshape(x_test, (x_test.shape[0], x_test.shape[1], 1))  \n",
    "    print(x_train.shape,y_train.shape,x_test.shape,y_test.shape,'after reshape')\n",
    "    x_test_date = one_floor.tail(len(x_test)).index\n",
    "    \n",
    "    return [x_train, y_train, x_test, y_test,x_test_date]\n",
    "\n",
    "def build_model(layers):\n",
    "    model = Sequential()\n",
    "    #input shape follows the (sequence length,time)\n",
    "    #input shape (Sequence length(50),num of features(1)), neurons=(seq len)50\n",
    "    model.add(LSTM( input_shape=(layers[1], layers[0]), units=layers[1]))\n",
    "    model.add(Dense(layers[3]))\n",
    "    model.add(Activation(\"sigmoid\"))\n",
    "\n",
    "    start = time.time()\n",
    "    model.compile(loss=\"mean_squared_error\", optimizer=\"adam\",metrics=[\"accuracy\"])\n",
    "    print(\"> Compilation Time : \", time.time() - start)\n",
    "    return model\n",
    "\n",
    "def predict_sequences_multiple(model, data, window_size, prediction_len):\n",
    "    #Predict sequence of 50 steps before shifting prediction run forward by 50 steps\n",
    "    prediction_seqs = []\n",
    "    # loop through built prediction batches (test data/pred size)\n",
    "    for i in range(int(len(data)/prediction_len)):\n",
    "        #current batch/sequence = test[prediction batch number*prediction length]\n",
    "        curr_frame = data[i*prediction_len]\n",
    "        #sample shape = (10,1)\n",
    "        predicted = []\n",
    "        # loop through prediction length to build multiple predictions\n",
    "        for j in range(prediction_len):\n",
    "            #predict current batch\n",
    "            # cur_frame[newaxis,:,:] sample shape = (1,10,1)\n",
    "            predicted.append(model.predict(curr_frame[newaxis,:,:])[0,0])\n",
    "            #example result =  [0.011287009]\n",
    "            #move current frame row by one forward\n",
    "            curr_frame = curr_frame[1:]\n",
    "            #insert previous prediction to current frame to predict next sequence\n",
    "            curr_frame = np.insert(curr_frame, [window_size-1], predicted[-1], axis=0)\n",
    "        prediction_seqs.append(predicted)\n",
    "    return prediction_seqs"
   ]
  },
  {
   "cell_type": "code",
   "execution_count": null,
   "metadata": {},
   "outputs": [],
   "source": [
    "def make_prediction():\n",
    "        global_start_time = time.time()\n",
    "        epochs  = 50\n",
    "        seq_len = 10\n",
    "        #lstm_dim=50\n",
    "        lstm_dim2=100\n",
    "        batch_size=50\n",
    "        #pred_len=10\n",
    "        pred_len=seq_len\n",
    "        print('> Loading data... ')\n",
    "\n",
    "        X_train, y_train, X_test, y_test,x_test_date = load_data(seq_len)\n",
    "        print('> Data Loaded. Compiling...')\n",
    "        \n",
    "        model = build_model([1, seq_len, lstm_dim2, 1])\n",
    "\n",
    "        history=model.fit( X_train,y_train,batch_size=batch_size,shuffle=False,epochs=epochs,validation_split=0.20)\n",
    "\n",
    "        predictions = predict_sequences_multiple(model, X_test, seq_len, pred_len)      \n",
    "        print('Training duration (s) : ', time.time() - global_start_time)\n",
    "        show_plot=True\n",
    "        if show_plot==True:\n",
    "            loss_plot(history)\n",
    "            plot_results_multiple(predictions, y_test,x_test_date, seq_len)"
   ]
  },
  {
   "cell_type": "code",
   "execution_count": null,
   "metadata": {},
   "outputs": [],
   "source": [
    "make_prediction()"
   ]
  },
  {
   "cell_type": "code",
   "execution_count": null,
   "metadata": {},
   "outputs": [],
   "source": []
  },
  {
   "cell_type": "code",
   "execution_count": null,
   "metadata": {},
   "outputs": [],
   "source": []
  },
  {
   "cell_type": "code",
   "execution_count": null,
   "metadata": {},
   "outputs": [],
   "source": []
  },
  {
   "cell_type": "code",
   "execution_count": null,
   "metadata": {},
   "outputs": [],
   "source": []
  },
  {
   "cell_type": "code",
   "execution_count": null,
   "metadata": {},
   "outputs": [],
   "source": []
  },
  {
   "cell_type": "code",
   "execution_count": null,
   "metadata": {},
   "outputs": [],
   "source": []
  },
  {
   "cell_type": "code",
   "execution_count": null,
   "metadata": {},
   "outputs": [],
   "source": []
  },
  {
   "cell_type": "code",
   "execution_count": null,
   "metadata": {},
   "outputs": [],
   "source": []
  },
  {
   "cell_type": "code",
   "execution_count": null,
   "metadata": {},
   "outputs": [],
   "source": []
  }
 ],
 "metadata": {
  "kernelspec": {
   "display_name": "Python 3",
   "language": "python",
   "name": "python3"
  },
  "language_info": {
   "codemirror_mode": {
    "name": "ipython",
    "version": 3
   },
   "file_extension": ".py",
   "mimetype": "text/x-python",
   "name": "python",
   "nbconvert_exporter": "python",
   "pygments_lexer": "ipython3",
   "version": "3.6.1"
  }
 },
 "nbformat": 4,
 "nbformat_minor": 2
}
