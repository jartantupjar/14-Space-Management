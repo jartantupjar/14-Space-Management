{
 "cells": [
  {
   "cell_type": "code",
   "execution_count": 1,
   "metadata": {},
   "outputs": [],
   "source": [
    "import time\n",
    "import numpy as np\n",
    "from matplotlib import pyplot\n",
    "from matplotlib import pyplot as plt\n",
    "import pickle\n",
    "import pandas as pd"
   ]
  },
  {
   "cell_type": "code",
   "execution_count": 2,
   "metadata": {},
   "outputs": [],
   "source": [
    "data=pickle.load(open('processed_data.p', \"rb\" ))"
   ]
  },
  {
   "cell_type": "code",
   "execution_count": 3,
   "metadata": {},
   "outputs": [
    {
     "data": {
      "text/html": [
       "<div>\n",
       "<style scoped>\n",
       "    .dataframe tbody tr th:only-of-type {\n",
       "        vertical-align: middle;\n",
       "    }\n",
       "\n",
       "    .dataframe tbody tr th {\n",
       "        vertical-align: top;\n",
       "    }\n",
       "\n",
       "    .dataframe thead th {\n",
       "        text-align: right;\n",
       "    }\n",
       "</style>\n",
       "<table border=\"1\" class=\"dataframe\">\n",
       "  <thead>\n",
       "    <tr style=\"text-align: right;\">\n",
       "      <th></th>\n",
       "      <th>Space</th>\n",
       "      <th>day_of_week_Friday</th>\n",
       "      <th>day_of_week_Monday</th>\n",
       "      <th>day_of_week_Saturday</th>\n",
       "      <th>day_of_week_Sunday</th>\n",
       "      <th>day_of_week_Thursday</th>\n",
       "      <th>day_of_week_Tuesday</th>\n",
       "      <th>day_of_week_Wednesday</th>\n",
       "      <th>hour_0</th>\n",
       "      <th>hour_1</th>\n",
       "      <th>...</th>\n",
       "      <th>hour_20</th>\n",
       "      <th>hour_21</th>\n",
       "      <th>hour_22</th>\n",
       "      <th>hour_23</th>\n",
       "      <th>minute_0</th>\n",
       "      <th>minute_10</th>\n",
       "      <th>minute_20</th>\n",
       "      <th>minute_30</th>\n",
       "      <th>minute_40</th>\n",
       "      <th>minute_50</th>\n",
       "    </tr>\n",
       "    <tr>\n",
       "      <th>Datetime</th>\n",
       "      <th></th>\n",
       "      <th></th>\n",
       "      <th></th>\n",
       "      <th></th>\n",
       "      <th></th>\n",
       "      <th></th>\n",
       "      <th></th>\n",
       "      <th></th>\n",
       "      <th></th>\n",
       "      <th></th>\n",
       "      <th></th>\n",
       "      <th></th>\n",
       "      <th></th>\n",
       "      <th></th>\n",
       "      <th></th>\n",
       "      <th></th>\n",
       "      <th></th>\n",
       "      <th></th>\n",
       "      <th></th>\n",
       "      <th></th>\n",
       "      <th></th>\n",
       "    </tr>\n",
       "  </thead>\n",
       "  <tbody>\n",
       "    <tr>\n",
       "      <th>2018-03-01 00:00:00</th>\n",
       "      <td>0</td>\n",
       "      <td>0</td>\n",
       "      <td>0</td>\n",
       "      <td>0</td>\n",
       "      <td>0</td>\n",
       "      <td>1</td>\n",
       "      <td>0</td>\n",
       "      <td>0</td>\n",
       "      <td>1</td>\n",
       "      <td>0</td>\n",
       "      <td>...</td>\n",
       "      <td>0</td>\n",
       "      <td>0</td>\n",
       "      <td>0</td>\n",
       "      <td>0</td>\n",
       "      <td>1</td>\n",
       "      <td>0</td>\n",
       "      <td>0</td>\n",
       "      <td>0</td>\n",
       "      <td>0</td>\n",
       "      <td>0</td>\n",
       "    </tr>\n",
       "    <tr>\n",
       "      <th>2018-03-01 00:10:00</th>\n",
       "      <td>0</td>\n",
       "      <td>0</td>\n",
       "      <td>0</td>\n",
       "      <td>0</td>\n",
       "      <td>0</td>\n",
       "      <td>1</td>\n",
       "      <td>0</td>\n",
       "      <td>0</td>\n",
       "      <td>1</td>\n",
       "      <td>0</td>\n",
       "      <td>...</td>\n",
       "      <td>0</td>\n",
       "      <td>0</td>\n",
       "      <td>0</td>\n",
       "      <td>0</td>\n",
       "      <td>0</td>\n",
       "      <td>1</td>\n",
       "      <td>0</td>\n",
       "      <td>0</td>\n",
       "      <td>0</td>\n",
       "      <td>0</td>\n",
       "    </tr>\n",
       "    <tr>\n",
       "      <th>2018-03-01 00:20:00</th>\n",
       "      <td>0</td>\n",
       "      <td>0</td>\n",
       "      <td>0</td>\n",
       "      <td>0</td>\n",
       "      <td>0</td>\n",
       "      <td>1</td>\n",
       "      <td>0</td>\n",
       "      <td>0</td>\n",
       "      <td>1</td>\n",
       "      <td>0</td>\n",
       "      <td>...</td>\n",
       "      <td>0</td>\n",
       "      <td>0</td>\n",
       "      <td>0</td>\n",
       "      <td>0</td>\n",
       "      <td>0</td>\n",
       "      <td>0</td>\n",
       "      <td>1</td>\n",
       "      <td>0</td>\n",
       "      <td>0</td>\n",
       "      <td>0</td>\n",
       "    </tr>\n",
       "  </tbody>\n",
       "</table>\n",
       "<p>3 rows × 38 columns</p>\n",
       "</div>"
      ],
      "text/plain": [
       "                     Space  day_of_week_Friday  day_of_week_Monday  \\\n",
       "Datetime                                                             \n",
       "2018-03-01 00:00:00      0                   0                   0   \n",
       "2018-03-01 00:10:00      0                   0                   0   \n",
       "2018-03-01 00:20:00      0                   0                   0   \n",
       "\n",
       "                     day_of_week_Saturday  day_of_week_Sunday  \\\n",
       "Datetime                                                        \n",
       "2018-03-01 00:00:00                     0                   0   \n",
       "2018-03-01 00:10:00                     0                   0   \n",
       "2018-03-01 00:20:00                     0                   0   \n",
       "\n",
       "                     day_of_week_Thursday  day_of_week_Tuesday  \\\n",
       "Datetime                                                         \n",
       "2018-03-01 00:00:00                     1                    0   \n",
       "2018-03-01 00:10:00                     1                    0   \n",
       "2018-03-01 00:20:00                     1                    0   \n",
       "\n",
       "                     day_of_week_Wednesday  hour_0  hour_1    ...      \\\n",
       "Datetime                                                      ...       \n",
       "2018-03-01 00:00:00                      0       1       0    ...       \n",
       "2018-03-01 00:10:00                      0       1       0    ...       \n",
       "2018-03-01 00:20:00                      0       1       0    ...       \n",
       "\n",
       "                     hour_20  hour_21  hour_22  hour_23  minute_0  minute_10  \\\n",
       "Datetime                                                                       \n",
       "2018-03-01 00:00:00        0        0        0        0         1          0   \n",
       "2018-03-01 00:10:00        0        0        0        0         0          1   \n",
       "2018-03-01 00:20:00        0        0        0        0         0          0   \n",
       "\n",
       "                     minute_20  minute_30  minute_40  minute_50  \n",
       "Datetime                                                         \n",
       "2018-03-01 00:00:00          0          0          0          0  \n",
       "2018-03-01 00:10:00          0          0          0          0  \n",
       "2018-03-01 00:20:00          1          0          0          0  \n",
       "\n",
       "[3 rows x 38 columns]"
      ]
     },
     "execution_count": 3,
     "metadata": {},
     "output_type": "execute_result"
    }
   ],
   "source": [
    "seat_data=data.loc[data['seatName']=='B5_9_1_05']\n",
    "seat_data=seat_data.sort_values(['Datetime'])\n",
    "#drop unecessary columns\n",
    "seat_data=seat_data.drop(['Country','Location','Resource Type','floor','Department','seatName'],axis=1)\n",
    "seat_data.set_index('Datetime',inplace=True)\n",
    "seat_data['day_of_week']=seat_data.index.weekday_name\n",
    "seat_data['hour']=seat_data.index.hour\n",
    "seat_data['minute']=seat_data.index.minute\n",
    "\n",
    "# encode values\n",
    "columns_to_encode=['day_of_week','hour','minute']\n",
    "seat_data= pd.get_dummies(seat_data, columns=columns_to_encode)\n",
    "seat_data.head(3)\n",
    "#seat_data.index.freq='10T'"
   ]
  },
  {
   "cell_type": "code",
   "execution_count": 4,
   "metadata": {},
   "outputs": [],
   "source": [
    "# transform to supervised learning\n",
    "def timeseries_to_supervised(data, lag=1):\n",
    "    df = pd.DataFrame(data)\n",
    "    columns = [df.shift(i) for i in range(1, lag+1)]\n",
    "    columns.append(df)\n",
    "    df = pd.concat(columns, axis=1)\n",
    "    df.dropna(inplace=True)\n",
    "    return df"
   ]
  },
  {
   "cell_type": "code",
   "execution_count": 5,
   "metadata": {},
   "outputs": [
    {
     "data": {
      "text/html": [
       "<div>\n",
       "<style scoped>\n",
       "    .dataframe tbody tr th:only-of-type {\n",
       "        vertical-align: middle;\n",
       "    }\n",
       "\n",
       "    .dataframe tbody tr th {\n",
       "        vertical-align: top;\n",
       "    }\n",
       "\n",
       "    .dataframe thead th {\n",
       "        text-align: right;\n",
       "    }\n",
       "</style>\n",
       "<table border=\"1\" class=\"dataframe\">\n",
       "  <thead>\n",
       "    <tr style=\"text-align: right;\">\n",
       "      <th></th>\n",
       "      <th>x</th>\n",
       "      <th>y</th>\n",
       "    </tr>\n",
       "    <tr>\n",
       "      <th>Datetime</th>\n",
       "      <th></th>\n",
       "      <th></th>\n",
       "    </tr>\n",
       "  </thead>\n",
       "  <tbody>\n",
       "    <tr>\n",
       "      <th>2018-03-01 00:10:00</th>\n",
       "      <td>0</td>\n",
       "      <td>0</td>\n",
       "    </tr>\n",
       "    <tr>\n",
       "      <th>2018-03-01 00:20:00</th>\n",
       "      <td>0</td>\n",
       "      <td>0</td>\n",
       "    </tr>\n",
       "    <tr>\n",
       "      <th>2018-03-01 00:30:00</th>\n",
       "      <td>0</td>\n",
       "      <td>0</td>\n",
       "    </tr>\n",
       "  </tbody>\n",
       "</table>\n",
       "</div>"
      ],
      "text/plain": [
       "                     x  y\n",
       "Datetime                 \n",
       "2018-03-01 00:10:00  0  0\n",
       "2018-03-01 00:20:00  0  0\n",
       "2018-03-01 00:30:00  0  0"
      ]
     },
     "metadata": {},
     "output_type": "display_data"
    }
   ],
   "source": [
    "sv_seat_data = timeseries_to_supervised(seat_data['Space'], 1)\n",
    "sv_seat_data.columns=['x',  'y']\n",
    "sv_seat_data['x']=sv_seat_data['x'].astype('int64')\n",
    "display(sv_seat_data.head(3))"
   ]
  },
  {
   "cell_type": "code",
   "execution_count": 6,
   "metadata": {
    "scrolled": true
   },
   "outputs": [
    {
     "data": {
      "text/html": [
       "<div>\n",
       "<style scoped>\n",
       "    .dataframe tbody tr th:only-of-type {\n",
       "        vertical-align: middle;\n",
       "    }\n",
       "\n",
       "    .dataframe tbody tr th {\n",
       "        vertical-align: top;\n",
       "    }\n",
       "\n",
       "    .dataframe thead th {\n",
       "        text-align: right;\n",
       "    }\n",
       "</style>\n",
       "<table border=\"1\" class=\"dataframe\">\n",
       "  <thead>\n",
       "    <tr style=\"text-align: right;\">\n",
       "      <th></th>\n",
       "      <th>x</th>\n",
       "      <th>y</th>\n",
       "      <th>day_of_week_Friday</th>\n",
       "      <th>day_of_week_Monday</th>\n",
       "      <th>day_of_week_Saturday</th>\n",
       "      <th>day_of_week_Sunday</th>\n",
       "      <th>day_of_week_Thursday</th>\n",
       "      <th>day_of_week_Tuesday</th>\n",
       "      <th>day_of_week_Wednesday</th>\n",
       "      <th>hour_0</th>\n",
       "      <th>...</th>\n",
       "      <th>hour_20</th>\n",
       "      <th>hour_21</th>\n",
       "      <th>hour_22</th>\n",
       "      <th>hour_23</th>\n",
       "      <th>minute_0</th>\n",
       "      <th>minute_10</th>\n",
       "      <th>minute_20</th>\n",
       "      <th>minute_30</th>\n",
       "      <th>minute_40</th>\n",
       "      <th>minute_50</th>\n",
       "    </tr>\n",
       "    <tr>\n",
       "      <th>Datetime</th>\n",
       "      <th></th>\n",
       "      <th></th>\n",
       "      <th></th>\n",
       "      <th></th>\n",
       "      <th></th>\n",
       "      <th></th>\n",
       "      <th></th>\n",
       "      <th></th>\n",
       "      <th></th>\n",
       "      <th></th>\n",
       "      <th></th>\n",
       "      <th></th>\n",
       "      <th></th>\n",
       "      <th></th>\n",
       "      <th></th>\n",
       "      <th></th>\n",
       "      <th></th>\n",
       "      <th></th>\n",
       "      <th></th>\n",
       "      <th></th>\n",
       "      <th></th>\n",
       "    </tr>\n",
       "  </thead>\n",
       "  <tbody>\n",
       "    <tr>\n",
       "      <th>2018-03-01 00:10:00</th>\n",
       "      <td>0</td>\n",
       "      <td>0</td>\n",
       "      <td>0</td>\n",
       "      <td>0</td>\n",
       "      <td>0</td>\n",
       "      <td>0</td>\n",
       "      <td>1</td>\n",
       "      <td>0</td>\n",
       "      <td>0</td>\n",
       "      <td>1</td>\n",
       "      <td>...</td>\n",
       "      <td>0</td>\n",
       "      <td>0</td>\n",
       "      <td>0</td>\n",
       "      <td>0</td>\n",
       "      <td>0</td>\n",
       "      <td>1</td>\n",
       "      <td>0</td>\n",
       "      <td>0</td>\n",
       "      <td>0</td>\n",
       "      <td>0</td>\n",
       "    </tr>\n",
       "    <tr>\n",
       "      <th>2018-03-01 00:20:00</th>\n",
       "      <td>0</td>\n",
       "      <td>0</td>\n",
       "      <td>0</td>\n",
       "      <td>0</td>\n",
       "      <td>0</td>\n",
       "      <td>0</td>\n",
       "      <td>1</td>\n",
       "      <td>0</td>\n",
       "      <td>0</td>\n",
       "      <td>1</td>\n",
       "      <td>...</td>\n",
       "      <td>0</td>\n",
       "      <td>0</td>\n",
       "      <td>0</td>\n",
       "      <td>0</td>\n",
       "      <td>0</td>\n",
       "      <td>0</td>\n",
       "      <td>1</td>\n",
       "      <td>0</td>\n",
       "      <td>0</td>\n",
       "      <td>0</td>\n",
       "    </tr>\n",
       "    <tr>\n",
       "      <th>2018-03-01 00:30:00</th>\n",
       "      <td>0</td>\n",
       "      <td>0</td>\n",
       "      <td>0</td>\n",
       "      <td>0</td>\n",
       "      <td>0</td>\n",
       "      <td>0</td>\n",
       "      <td>1</td>\n",
       "      <td>0</td>\n",
       "      <td>0</td>\n",
       "      <td>1</td>\n",
       "      <td>...</td>\n",
       "      <td>0</td>\n",
       "      <td>0</td>\n",
       "      <td>0</td>\n",
       "      <td>0</td>\n",
       "      <td>0</td>\n",
       "      <td>0</td>\n",
       "      <td>0</td>\n",
       "      <td>1</td>\n",
       "      <td>0</td>\n",
       "      <td>0</td>\n",
       "    </tr>\n",
       "  </tbody>\n",
       "</table>\n",
       "<p>3 rows × 39 columns</p>\n",
       "</div>"
      ],
      "text/plain": [
       "                     x  y  day_of_week_Friday  day_of_week_Monday  \\\n",
       "Datetime                                                            \n",
       "2018-03-01 00:10:00  0  0                   0                   0   \n",
       "2018-03-01 00:20:00  0  0                   0                   0   \n",
       "2018-03-01 00:30:00  0  0                   0                   0   \n",
       "\n",
       "                     day_of_week_Saturday  day_of_week_Sunday  \\\n",
       "Datetime                                                        \n",
       "2018-03-01 00:10:00                     0                   0   \n",
       "2018-03-01 00:20:00                     0                   0   \n",
       "2018-03-01 00:30:00                     0                   0   \n",
       "\n",
       "                     day_of_week_Thursday  day_of_week_Tuesday  \\\n",
       "Datetime                                                         \n",
       "2018-03-01 00:10:00                     1                    0   \n",
       "2018-03-01 00:20:00                     1                    0   \n",
       "2018-03-01 00:30:00                     1                    0   \n",
       "\n",
       "                     day_of_week_Wednesday  hour_0    ...      hour_20  \\\n",
       "Datetime                                              ...                \n",
       "2018-03-01 00:10:00                      0       1    ...            0   \n",
       "2018-03-01 00:20:00                      0       1    ...            0   \n",
       "2018-03-01 00:30:00                      0       1    ...            0   \n",
       "\n",
       "                     hour_21  hour_22  hour_23  minute_0  minute_10  \\\n",
       "Datetime                                                              \n",
       "2018-03-01 00:10:00        0        0        0         0          1   \n",
       "2018-03-01 00:20:00        0        0        0         0          0   \n",
       "2018-03-01 00:30:00        0        0        0         0          0   \n",
       "\n",
       "                     minute_20  minute_30  minute_40  minute_50  \n",
       "Datetime                                                         \n",
       "2018-03-01 00:10:00          0          0          0          0  \n",
       "2018-03-01 00:20:00          1          0          0          0  \n",
       "2018-03-01 00:30:00          0          1          0          0  \n",
       "\n",
       "[3 rows x 39 columns]"
      ]
     },
     "execution_count": 6,
     "metadata": {},
     "output_type": "execute_result"
    }
   ],
   "source": [
    "#df=sv_seat_data.merge(seat_data,how='inner',left_index=True,right_index=True)\n",
    "df=pd.merge(sv_seat_data,seat_data, right_index=True, left_index=True,  how='left')\n",
    "df.drop(['Space'],axis=1,inplace=True)\n",
    "df.head(3)"
   ]
  },
  {
   "cell_type": "code",
   "execution_count": 7,
   "metadata": {},
   "outputs": [],
   "source": [
    "train,test=df.iloc[df.index<'2018-03-25'],df.iloc[df.index>='2018-03-25']\n",
    "y_train,x_train=train['y'],train.drop(['y'],axis=1)\n",
    "y_test,x_test=test['y'],test.drop(['y'],axis=1)"
   ]
  },
  {
   "cell_type": "code",
   "execution_count": 8,
   "metadata": {},
   "outputs": [],
   "source": [
    "from sklearn.metrics import r2_score,accuracy_score,classification_report,roc_auc_score,log_loss,zero_one_loss,confusion_matrix\n",
    "def regression_metric(y_true,y_predict):\n",
    "    return r2_score(y_true,y_predict)\n",
    "def classification_metric(y_true,y_predict):\n",
    "    print('accuracy score',accuracy_score(y_true,y_predict))\n",
    "    print('roc_auc_score',roc_auc_score(y_true, y_predict))\n",
    "    print('log loss score',log_loss(y_true,y_predict))\n",
    "    print('zero_one_loss score',zero_one_loss(y_true,y_predict))\n",
    "    print('confusion_matrix',confusion_matrix(y_true,y_predict))\n",
    "    print(classification_report(y_true,y_predict))"
   ]
  },
  {
   "cell_type": "code",
   "execution_count": 9,
   "metadata": {},
   "outputs": [],
   "source": [
    "def plot_results(train,test,y_hat):\n",
    "    plt.plot(train,label='Train')\n",
    "    plt.plot(test,label='Test')\n",
    "    plt.plot(y_hat,label='forecast')\n",
    "    plt.legend(loc='best')\n",
    "    plt.show();\n",
    "def plot_specific_results(train,test,y_hat):\n",
    "    plt.plot(test[300:400],label='Test')\n",
    "    plt.plot(y_hat[300:400],label='forecast')\n",
    "    plt.legend(loc='best')\n",
    "    plt.show();"
   ]
  },
  {
   "cell_type": "markdown",
   "metadata": {},
   "source": [
    "### Regression"
   ]
  },
  {
   "cell_type": "code",
   "execution_count": 10,
   "metadata": {
    "scrolled": true
   },
   "outputs": [
    {
     "name": "stdout",
     "output_type": "stream",
     "text": [
      "                            OLS Regression Results                            \n",
      "==============================================================================\n",
      "Dep. Variable:                      y   R-squared:                       0.612\n",
      "Model:                            OLS   Adj. R-squared:                  0.612\n",
      "Method:                 Least Squares   F-statistic:                     5440.\n",
      "Date:                Wed, 25 Apr 2018   Prob (F-statistic):               0.00\n",
      "Time:                        14:37:28   Log-Likelihood:                 400.97\n",
      "No. Observations:                3455   AIC:                            -799.9\n",
      "Df Residuals:                    3454   BIC:                            -793.8\n",
      "Df Model:                           1                                         \n",
      "Covariance Type:            nonrobust                                         \n",
      "==============================================================================\n",
      "                 coef    std err          t      P>|t|      [0.025      0.975]\n",
      "------------------------------------------------------------------------------\n",
      "x              0.7821      0.011     73.757      0.000       0.761       0.803\n",
      "==============================================================================\n",
      "Omnibus:                     1205.183   Durbin-Watson:                   2.384\n",
      "Prob(Omnibus):                  0.000   Jarque-Bera (JB):            27240.996\n",
      "Skew:                           1.121   Prob(JB):                         0.00\n",
      "Kurtosis:                      16.572   Cond. No.                         1.00\n",
      "==============================================================================\n",
      "\n",
      "Warnings:\n",
      "[1] Standard Errors assume that the covariance matrix of the errors is correctly specified.\n"
     ]
    }
   ],
   "source": [
    "import statsmodels.api as sm\n",
    "X2 = sm.add_constant(x_train['x'])\n",
    "est = sm.OLS(y_train, x_train['x'])\n",
    "est2 = est.fit()\n",
    "print(est2.summary())"
   ]
  },
  {
   "cell_type": "code",
   "execution_count": 15,
   "metadata": {},
   "outputs": [
    {
     "name": "stderr",
     "output_type": "stream",
     "text": [
      "C:\\Users\\ndrs\\Anaconda3\\lib\\site-packages\\numpy\\core\\fromnumeric.py:52: FutureWarning: reshape is deprecated and will raise in a subsequent release. Please use .values.reshape(...) instead\n",
      "  return getattr(obj, method)(*args, **kwds)\n"
     ]
    },
    {
     "data": {
      "text/plain": [
       "0.5437465004829587"
      ]
     },
     "execution_count": 15,
     "metadata": {},
     "output_type": "execute_result"
    }
   ],
   "source": [
    "from sklearn.linear_model import LinearRegression\n",
    "regr=LinearRegression()\n",
    "r_x_train=np.reshape(x_train['x'],(-1,1))\n",
    "regr.fit(r_x_train,y_train)\n",
    "pred=regr.predict(np.reshape(x_test['x'],(-1,1)))\n",
    "regression_metric(y_test,pred)"
   ]
  },
  {
   "cell_type": "code",
   "execution_count": 16,
   "metadata": {},
   "outputs": [
    {
     "data": {
      "image/png": "[encoded data removed]",
      "text/plain": [
       "<Figure size 432x288 with 1 Axes>"
      ]
     },
     "metadata": {},
     "output_type": "display_data"
    },
    {
     "data": {
      "image/png": "[encoded data removed]",
      "text/plain": [
       "<Figure size 432x288 with 1 Axes>"
      ]
     },
     "metadata": {},
     "output_type": "display_data"
    }
   ],
   "source": [
    "y_hat=test.copy()\n",
    "y_hat['forecast']=pred\n",
    "\n",
    "plot_results(train['y'],test['y'],y_hat['forecast'])\n",
    "plot_specific_results(train['y'],test['y'],y_hat['forecast'])"
   ]
  },
  {
   "cell_type": "code",
   "execution_count": null,
   "metadata": {},
   "outputs": [],
   "source": []
  },
  {
   "cell_type": "markdown",
   "metadata": {},
   "source": [
    "### Classification"
   ]
  },
  {
   "cell_type": "code",
   "execution_count": 17,
   "metadata": {},
   "outputs": [],
   "source": [
    "def feature_plot(imp_features,X):\n",
    "    indices = np.argsort(imp_features)[::-1]\n",
    "    num_features=len(imp_features[imp_features>0])\n",
    "    columns = X.columns.values[indices][:num_features]\n",
    "    values=imp_features[indices][:num_features]\n",
    "\n",
    "    plt.figure(figsize = (15,5))\n",
    "    plt.title(\"Feature importances\")\n",
    "    plt.barh(range(num_features), values, align=\"center\")\n",
    "    plt.yticks(range(num_features), columns)\n",
    "    plt.ylim([ num_features,-1])\n",
    "    plt.show() "
   ]
  },
  {
   "cell_type": "markdown",
   "metadata": {},
   "source": [
    "## With X variable"
   ]
  },
  {
   "cell_type": "code",
   "execution_count": null,
   "metadata": {},
   "outputs": [],
   "source": []
  },
  {
   "cell_type": "code",
   "execution_count": 18,
   "metadata": {
    "scrolled": false
   },
   "outputs": [
    {
     "name": "stdout",
     "output_type": "stream",
     "text": [
      "classifier:  DecisionTreeClassifier\n",
      "accuracy score 0.9067460317460317\n",
      "roc_auc_score 0.7396643138275378\n",
      "log loss score 3.2208969954959614\n",
      "zero_one_loss score 0.09325396825396826\n",
      "confusion_matrix [[842  24]\n",
      " [ 70  72]]\n",
      "             precision    recall  f1-score   support\n",
      "\n",
      "          0       0.92      0.97      0.95       866\n",
      "          1       0.75      0.51      0.61       142\n",
      "\n",
      "avg / total       0.90      0.91      0.90      1008\n",
      "\n",
      "classifier:  RandomForestClassifier\n",
      "accuracy score 0.9166666666666666\n",
      "roc_auc_score 0.7748755814331718\n",
      "log loss score 2.8782504042766095\n",
      "zero_one_loss score 0.08333333333333337\n",
      "confusion_matrix [[842  24]\n",
      " [ 60  82]]\n",
      "             precision    recall  f1-score   support\n",
      "\n",
      "          0       0.93      0.97      0.95       866\n",
      "          1       0.77      0.58      0.66       142\n",
      "\n",
      "avg / total       0.91      0.92      0.91      1008\n",
      "\n",
      "classifier:  SGDClassifier\n",
      "accuracy score 0.9345238095238095\n",
      "roc_auc_score 0.8559184204534366\n",
      "log loss score 2.2614912995902894\n",
      "zero_one_loss score 0.06547619047619047\n",
      "confusion_matrix [[836  30]\n",
      " [ 36 106]]\n",
      "             precision    recall  f1-score   support\n",
      "\n",
      "          0       0.96      0.97      0.96       866\n",
      "          1       0.78      0.75      0.76       142\n",
      "\n",
      "avg / total       0.93      0.93      0.93      1008\n",
      "\n",
      "classifier:  MLPClassifier\n"
     ]
    },
    {
     "name": "stderr",
     "output_type": "stream",
     "text": [
      "C:\\Users\\ndrs\\Anaconda3\\lib\\site-packages\\sklearn\\linear_model\\stochastic_gradient.py:128: FutureWarning: max_iter and tol parameters have been added in <class 'sklearn.linear_model.stochastic_gradient.SGDClassifier'> in 0.19. If both are left unset, they default to max_iter=5 and tol=None. If tol is not None, max_iter defaults to max_iter=1000. From 0.21, default max_iter will be 1000, and default tol will be 1e-3.\n",
      "  \"and default tol will be 1e-3.\" % type(self), FutureWarning)\n"
     ]
    },
    {
     "name": "stdout",
     "output_type": "stream",
     "text": [
      "accuracy score 0.9226190476190477\n",
      "roc_auc_score 0.7989461015515728\n",
      "log loss score 2.672663242796417\n",
      "zero_one_loss score 0.07738095238095233\n",
      "confusion_matrix [[841  25]\n",
      " [ 53  89]]\n",
      "             precision    recall  f1-score   support\n",
      "\n",
      "          0       0.94      0.97      0.96       866\n",
      "          1       0.78      0.63      0.70       142\n",
      "\n",
      "avg / total       0.92      0.92      0.92      1008\n",
      "\n",
      "classifier:  AdaBoostClassifier\n",
      "accuracy score 0.9404761904761905\n",
      "roc_auc_score 0.8682139023517549\n",
      "log loss score 2.0559009651044216\n",
      "zero_one_loss score 0.059523809523809534\n",
      "confusion_matrix [[839  27]\n",
      " [ 33 109]]\n",
      "             precision    recall  f1-score   support\n",
      "\n",
      "          0       0.96      0.97      0.97       866\n",
      "          1       0.80      0.77      0.78       142\n",
      "\n",
      "avg / total       0.94      0.94      0.94      1008\n",
      "\n",
      "classifier:  KNeighborsClassifier\n",
      "accuracy score 0.8928571428571429\n",
      "roc_auc_score 0.6638747031844647\n",
      "log loss score 3.700595083940285\n",
      "zero_one_loss score 0.1071428571428571\n",
      "confusion_matrix [[851  15]\n",
      " [ 93  49]]\n",
      "             precision    recall  f1-score   support\n",
      "\n",
      "          0       0.90      0.98      0.94       866\n",
      "          1       0.77      0.35      0.48       142\n",
      "\n",
      "avg / total       0.88      0.89      0.87      1008\n",
      "\n",
      "classifier:  GradientBoostingClassifier\n",
      "accuracy score 0.935515873015873\n",
      "roc_auc_score 0.8535520281039587\n",
      "log loss score 2.2272250539655163\n",
      "zero_one_loss score 0.06448412698412698\n",
      "confusion_matrix [[838  28]\n",
      " [ 37 105]]\n",
      "             precision    recall  f1-score   support\n",
      "\n",
      "          0       0.96      0.97      0.96       866\n",
      "          1       0.79      0.74      0.76       142\n",
      "\n",
      "avg / total       0.93      0.94      0.93      1008\n",
      "\n",
      "classifier:  SVC\n",
      "accuracy score 0.9365079365079365\n",
      "roc_auc_score 0.8688481930846046\n",
      "log loss score 2.1929635678492567\n",
      "zero_one_loss score 0.06349206349206349\n",
      "confusion_matrix [[834  32]\n",
      " [ 32 110]]\n",
      "             precision    recall  f1-score   support\n",
      "\n",
      "          0       0.96      0.96      0.96       866\n",
      "          1       0.77      0.77      0.77       142\n",
      "\n",
      "avg / total       0.94      0.94      0.94      1008\n",
      "\n",
      "classifier:  GaussianNB\n",
      "accuracy score 0.498015873015873\n",
      "roc_auc_score 0.7019646748853398\n",
      "log loss score 17.33831731441431\n",
      "zero_one_loss score 0.501984126984127\n",
      "confusion_matrix [[362 504]\n",
      " [  2 140]]\n",
      "             precision    recall  f1-score   support\n",
      "\n",
      "          0       0.99      0.42      0.59       866\n",
      "          1       0.22      0.99      0.36       142\n",
      "\n",
      "avg / total       0.89      0.50      0.56      1008\n",
      "\n"
     ]
    }
   ],
   "source": [
    "from sklearn.tree import DecisionTreeClassifier\n",
    "from sklearn.ensemble import AdaBoostClassifier,RandomForestClassifier,BaggingClassifier,GradientBoostingClassifier\n",
    "from sklearn.linear_model import SGDClassifier\n",
    "from sklearn.ensemble import RandomForestClassifier\n",
    "from sklearn.neural_network import MLPClassifier\n",
    "from sklearn.neighbors import KNeighborsClassifier\n",
    "from sklearn.svm import SVC\n",
    "from sklearn.naive_bayes import GaussianNB\n",
    "\n",
    "DT_clf=DecisionTreeClassifier()\n",
    "RF_clf=RandomForestClassifier()\n",
    "SGD_clf=SGDClassifier()\n",
    "MLP_clf=MLPClassifier()\n",
    "AB_clf=AdaBoostClassifier()\n",
    "KN_clf=KNeighborsClassifier()\n",
    "GB_clf=GradientBoostingClassifier()\n",
    "SVC_clf=SVC()\n",
    "NB_clf=GaussianNB()\n",
    "for clf in [DT_clf,RF_clf,SGD_clf,MLP_clf,AB_clf,KN_clf,GB_clf,SVC_clf,NB_clf]:\n",
    "    print('classifier: ',clf.__class__.__name__)\n",
    "    clf.fit(x_train,y_train)\n",
    "    pred=clf.predict(x_test)\n",
    "    classification_metric(y_test,pred)"
   ]
  },
  {
   "cell_type": "markdown",
   "metadata": {},
   "source": [
    "Models with the best results are:\n",
    "1. AdaBoostClassifier\n",
    "2. GradientBoostingClassifier\n",
    "3. SVC"
   ]
  },
  {
   "cell_type": "code",
   "execution_count": 19,
   "metadata": {},
   "outputs": [
    {
     "data": {
      "image/png": "[encoded data removed]",
      "text/plain": [
       "<Figure size 1080x360 with 1 Axes>"
      ]
     },
     "metadata": {},
     "output_type": "display_data"
    },
    {
     "name": "stdout",
     "output_type": "stream",
     "text": [
      "accuracy score 0.498015873015873\n",
      "roc_auc_score 0.7019646748853398\n",
      "log loss score 17.33831731441431\n",
      "zero_one_loss score 0.501984126984127\n",
      "confusion_matrix [[362 504]\n",
      " [  2 140]]\n",
      "             precision    recall  f1-score   support\n",
      "\n",
      "          0       0.99      0.42      0.59       866\n",
      "          1       0.22      0.99      0.36       142\n",
      "\n",
      "avg / total       0.89      0.50      0.56      1008\n",
      "\n"
     ]
    }
   ],
   "source": [
    "clf=AdaBoostClassifier()\n",
    "clf.fit(x_train,y_train)\n",
    "imp_features=clf.feature_importances_\n",
    "feature_plot(imp_features,x_test)\n",
    "classification_metric(y_test,pred)"
   ]
  },
  {
   "cell_type": "code",
   "execution_count": 20,
   "metadata": {},
   "outputs": [
    {
     "data": {
      "image/png": "[encoded data removed]",
      "text/plain": [
       "<Figure size 432x288 with 1 Axes>"
      ]
     },
     "metadata": {},
     "output_type": "display_data"
    },
    {
     "data": {
      "image/png": "[encoded data removed]",
      "text/plain": [
       "<Figure size 432x288 with 1 Axes>"
      ]
     },
     "metadata": {},
     "output_type": "display_data"
    }
   ],
   "source": [
    "y_hat=test.copy()\n",
    "pred=clf.predict(x_test)\n",
    "y_hat['forecast']=pred\n",
    "\n",
    "plot_results(train['y'],test['y'],y_hat['forecast'])\n",
    "plot_specific_results(train['y'],test['y'],y_hat['forecast'])"
   ]
  },
  {
   "cell_type": "markdown",
   "metadata": {},
   "source": [
    "### PART 2: WITHOUT X variable"
   ]
  },
  {
   "cell_type": "code",
   "execution_count": 21,
   "metadata": {},
   "outputs": [],
   "source": [
    "x_train.drop(['x'],axis=1,inplace=True)\n",
    "x_test.drop(['x'],axis=1,inplace=True)"
   ]
  },
  {
   "cell_type": "code",
   "execution_count": 22,
   "metadata": {},
   "outputs": [
    {
     "name": "stdout",
     "output_type": "stream",
     "text": [
      "classifier:  DecisionTreeClassifier\n",
      "accuracy score 0.8670634920634921\n",
      "roc_auc_score 0.5576066096347136\n",
      "log loss score 4.591472254853506\n",
      "zero_one_loss score 0.1329365079365079\n",
      "confusion_matrix [[856  10]\n",
      " [124  18]]\n",
      "             precision    recall  f1-score   support\n",
      "\n",
      "          0       0.87      0.99      0.93       866\n",
      "          1       0.64      0.13      0.21       142\n",
      "\n",
      "avg / total       0.84      0.87      0.83      1008\n",
      "\n",
      "classifier:  RandomForestClassifier\n",
      "accuracy score 0.8452380952380952\n",
      "roc_auc_score 0.5566795693328563\n",
      "log loss score 5.345315380072971\n",
      "zero_one_loss score 0.15476190476190477\n",
      "confusion_matrix [[830  36]\n",
      " [120  22]]\n",
      "             precision    recall  f1-score   support\n",
      "\n",
      "          0       0.87      0.96      0.91       866\n",
      "          1       0.38      0.15      0.22       142\n",
      "\n",
      "avg / total       0.80      0.85      0.82      1008\n",
      "\n",
      "classifier:  SGDClassifier\n",
      "accuracy score 0.8581349206349206\n",
      "roc_auc_score 0.5200289496796018\n",
      "log loss score 4.899852600448085\n",
      "zero_one_loss score 0.14186507936507942\n",
      "confusion_matrix [[858   8]\n",
      " [135   7]]\n",
      "             precision    recall  f1-score   support\n",
      "\n",
      "          0       0.86      0.99      0.92       866\n",
      "          1       0.47      0.05      0.09       142\n",
      "\n",
      "avg / total       0.81      0.86      0.81      1008\n",
      "\n",
      "classifier:  MLPClassifier\n"
     ]
    },
    {
     "name": "stderr",
     "output_type": "stream",
     "text": [
      "C:\\Users\\ndrs\\Anaconda3\\lib\\site-packages\\sklearn\\linear_model\\stochastic_gradient.py:128: FutureWarning: max_iter and tol parameters have been added in <class 'sklearn.linear_model.stochastic_gradient.SGDClassifier'> in 0.19. If both are left unset, they default to max_iter=5 and tol=None. If tol is not None, max_iter defaults to max_iter=1000. From 0.21, default max_iter will be 1000, and default tol will be 1e-3.\n",
      "  \"and default tol will be 1e-3.\" % type(self), FutureWarning)\n"
     ]
    },
    {
     "name": "stdout",
     "output_type": "stream",
     "text": [
      "accuracy score 0.8621031746031746\n",
      "roc_auc_score 0.5517760140519794\n",
      "log loss score 4.762798723468857\n",
      "zero_one_loss score 0.13789682539682535\n",
      "confusion_matrix [[852  14]\n",
      " [125  17]]\n",
      "             precision    recall  f1-score   support\n",
      "\n",
      "          0       0.87      0.98      0.92       866\n",
      "          1       0.55      0.12      0.20       142\n",
      "\n",
      "avg / total       0.83      0.86      0.82      1008\n",
      "\n",
      "classifier:  AdaBoostClassifier\n",
      "accuracy score 0.8422619047619048\n",
      "roc_auc_score 0.496072276615815\n",
      "log loss score 5.448095872164655\n",
      "zero_one_loss score 0.15773809523809523\n",
      "confusion_matrix [[847  19]\n",
      " [140   2]]\n",
      "             precision    recall  f1-score   support\n",
      "\n",
      "          0       0.86      0.98      0.91       866\n",
      "          1       0.10      0.01      0.02       142\n",
      "\n",
      "avg / total       0.75      0.84      0.79      1008\n",
      "\n",
      "classifier:  KNeighborsClassifier\n",
      "accuracy score 0.8591269841269841\n",
      "roc_auc_score 0.5\n",
      "log loss score 4.865581595314799\n",
      "zero_one_loss score 0.14087301587301593\n",
      "confusion_matrix [[866   0]\n",
      " [142   0]]\n",
      "             precision    recall  f1-score   support\n",
      "\n",
      "          0       0.86      1.00      0.92       866\n",
      "          1       0.00      0.00      0.00       142\n",
      "\n",
      "avg / total       0.74      0.86      0.79      1008\n",
      "\n",
      "classifier:  GradientBoostingClassifier\n"
     ]
    },
    {
     "name": "stderr",
     "output_type": "stream",
     "text": [
      "C:\\Users\\ndrs\\Anaconda3\\lib\\site-packages\\sklearn\\metrics\\classification.py:1135: UndefinedMetricWarning: Precision and F-score are ill-defined and being set to 0.0 in labels with no predicted samples.\n",
      "  'precision', 'predicted', average, warn_for)\n"
     ]
    },
    {
     "name": "stdout",
     "output_type": "stream",
     "text": [
      "accuracy score 0.8660714285714286\n",
      "roc_auc_score 0.539366685099047\n",
      "log loss score 4.6257329477183475\n",
      "zero_one_loss score 0.1339285714285714\n",
      "confusion_matrix [[861   5]\n",
      " [130  12]]\n",
      "             precision    recall  f1-score   support\n",
      "\n",
      "          0       0.87      0.99      0.93       866\n",
      "          1       0.71      0.08      0.15       142\n",
      "\n",
      "avg / total       0.85      0.87      0.82      1008\n",
      "\n",
      "classifier:  SVC\n",
      "accuracy score 0.8591269841269841\n",
      "roc_auc_score 0.5\n",
      "log loss score 4.865581595314799\n",
      "zero_one_loss score 0.14087301587301593\n",
      "confusion_matrix [[866   0]\n",
      " [142   0]]\n",
      "             precision    recall  f1-score   support\n",
      "\n",
      "          0       0.86      1.00      0.92       866\n",
      "          1       0.00      0.00      0.00       142\n",
      "\n",
      "avg / total       0.74      0.86      0.79      1008\n",
      "\n",
      "classifier:  GaussianNB\n",
      "accuracy score 0.4732142857142857\n",
      "roc_auc_score 0.684586735191751\n",
      "log loss score 18.194952830496742\n",
      "zero_one_loss score 0.5267857142857143\n",
      "confusion_matrix [[338 528]\n",
      " [  3 139]]\n",
      "             precision    recall  f1-score   support\n",
      "\n",
      "          0       0.99      0.39      0.56       866\n",
      "          1       0.21      0.98      0.34       142\n",
      "\n",
      "avg / total       0.88      0.47      0.53      1008\n",
      "\n"
     ]
    },
    {
     "name": "stderr",
     "output_type": "stream",
     "text": [
      "C:\\Users\\ndrs\\Anaconda3\\lib\\site-packages\\sklearn\\metrics\\classification.py:1135: UndefinedMetricWarning: Precision and F-score are ill-defined and being set to 0.0 in labels with no predicted samples.\n",
      "  'precision', 'predicted', average, warn_for)\n"
     ]
    }
   ],
   "source": [
    "from sklearn.tree import DecisionTreeClassifier\n",
    "from sklearn.ensemble import AdaBoostClassifier,RandomForestClassifier,BaggingClassifier,GradientBoostingClassifier\n",
    "from sklearn.linear_model import SGDClassifier\n",
    "from sklearn.ensemble import RandomForestClassifier\n",
    "from sklearn.neural_network import MLPClassifier\n",
    "from sklearn.neighbors import KNeighborsClassifier\n",
    "from sklearn.svm import SVC\n",
    "from sklearn.naive_bayes import GaussianNB\n",
    "\n",
    "DT_clf=DecisionTreeClassifier()\n",
    "RF_clf=RandomForestClassifier()\n",
    "SGD_clf=SGDClassifier()\n",
    "MLP_clf=MLPClassifier()\n",
    "AB_clf=AdaBoostClassifier()\n",
    "KN_clf=KNeighborsClassifier()\n",
    "GB_clf=GradientBoostingClassifier()\n",
    "SVC_clf=SVC()\n",
    "NB_clf=GaussianNB()\n",
    "for clf in [DT_clf,RF_clf,SGD_clf,MLP_clf,AB_clf,KN_clf,GB_clf,SVC_clf,NB_clf]:\n",
    "    print('classifier: ',clf.__class__.__name__)\n",
    "    clf.fit(x_train,y_train)\n",
    "    pred=clf.predict(x_test)\n",
    "    classification_metric(y_test,pred)"
   ]
  },
  {
   "cell_type": "markdown",
   "metadata": {},
   "source": [
    "Models with the best results are:\n",
    "1. RandomForestClassifier\n",
    "2. DecisionTreeClassifier\n",
    "3. GradientBoostingClassifier"
   ]
  },
  {
   "cell_type": "code",
   "execution_count": 24,
   "metadata": {},
   "outputs": [
    {
     "data": {
      "image/png": "[encoded data removed]",
      "text/plain": [
       "<Figure size 1080x360 with 1 Axes>"
      ]
     },
     "metadata": {},
     "output_type": "display_data"
    },
    {
     "name": "stdout",
     "output_type": "stream",
     "text": [
      "accuracy score 0.4732142857142857\n",
      "roc_auc_score 0.684586735191751\n",
      "log loss score 18.194952830496742\n",
      "zero_one_loss score 0.5267857142857143\n",
      "confusion_matrix [[338 528]\n",
      " [  3 139]]\n",
      "             precision    recall  f1-score   support\n",
      "\n",
      "          0       0.99      0.39      0.56       866\n",
      "          1       0.21      0.98      0.34       142\n",
      "\n",
      "avg / total       0.88      0.47      0.53      1008\n",
      "\n"
     ]
    }
   ],
   "source": [
    "clf=RandomForestClassifier()\n",
    "clf.fit(x_train,y_train)\n",
    "imp_features=clf.feature_importances_\n",
    "feature_plot(imp_features,x_test)\n",
    "classification_metric(y_test,pred)"
   ]
  },
  {
   "cell_type": "code",
   "execution_count": 25,
   "metadata": {},
   "outputs": [
    {
     "data": {
      "image/png": "[encoded data removed]",
      "text/plain": [
       "<Figure size 432x288 with 1 Axes>"
      ]
     },
     "metadata": {},
     "output_type": "display_data"
    },
    {
     "data": {
      "image/png": "[encoded data removed]",
      "text/plain": [
       "<Figure size 432x288 with 1 Axes>"
      ]
     },
     "metadata": {},
     "output_type": "display_data"
    }
   ],
   "source": [
    "y_hat=test.copy()\n",
    "pred=clf.predict(x_test)\n",
    "y_hat['forecast']=pred\n",
    "\n",
    "plot_results(train['y'],test['y'],y_hat['forecast'])\n",
    "plot_specific_results(train['y'],test['y'],y_hat['forecast'])"
   ]
  },
  {
   "cell_type": "code",
   "execution_count": null,
   "metadata": {},
   "outputs": [],
   "source": []
  }
 ],
 "metadata": {
  "kernelspec": {
   "display_name": "Python 3",
   "language": "python",
   "name": "python3"
  },
  "language_info": {
   "codemirror_mode": {
    "name": "ipython",
    "version": 3
   },
   "file_extension": ".py",
   "mimetype": "text/x-python",
   "name": "python",
   "nbconvert_exporter": "python",
   "pygments_lexer": "ipython3",
   "version": "3.6.1"
  }
 },
 "nbformat": 4,
 "nbformat_minor": 2
}
