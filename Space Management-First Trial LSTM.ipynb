{
 "cells": [
  {
   "cell_type": "code",
   "execution_count": 1,
   "metadata": {},
   "outputs": [],
   "source": [
    "import pandas as pd\n",
    "import numpy as np\n",
    "from IPython.display import display"
   ]
  },
  {
   "cell_type": "code",
   "execution_count": 2,
   "metadata": {},
   "outputs": [
    {
     "data": {
      "text/html": [
       "<div>\n",
       "<style scoped>\n",
       "    .dataframe tbody tr th:only-of-type {\n",
       "        vertical-align: middle;\n",
       "    }\n",
       "\n",
       "    .dataframe tbody tr th {\n",
       "        vertical-align: top;\n",
       "    }\n",
       "\n",
       "    .dataframe thead th {\n",
       "        text-align: right;\n",
       "    }\n",
       "</style>\n",
       "<table border=\"1\" class=\"dataframe\">\n",
       "  <thead>\n",
       "    <tr style=\"text-align: right;\">\n",
       "      <th></th>\n",
       "      <th>Country</th>\n",
       "      <th>Location</th>\n",
       "      <th>Resource Type</th>\n",
       "      <th>floor</th>\n",
       "      <th>Department</th>\n",
       "      <th>seatName</th>\n",
       "      <th>Space</th>\n",
       "      <th>Datetime</th>\n",
       "    </tr>\n",
       "  </thead>\n",
       "  <tbody>\n",
       "    <tr>\n",
       "      <th>0</th>\n",
       "      <td>India</td>\n",
       "      <td>Tower 2</td>\n",
       "      <td>Desk</td>\n",
       "      <td>Level 9</td>\n",
       "      <td>Sky Branch</td>\n",
       "      <td>B5_9_1_02</td>\n",
       "      <td>0</td>\n",
       "      <td>2018-03-01</td>\n",
       "    </tr>\n",
       "    <tr>\n",
       "      <th>1</th>\n",
       "      <td>India</td>\n",
       "      <td>Tower 2</td>\n",
       "      <td>Desk</td>\n",
       "      <td>Level 9</td>\n",
       "      <td>Sky Branch</td>\n",
       "      <td>B5_9_2_02</td>\n",
       "      <td>0</td>\n",
       "      <td>2018-03-01</td>\n",
       "    </tr>\n",
       "    <tr>\n",
       "      <th>2</th>\n",
       "      <td>India</td>\n",
       "      <td>Tower 2</td>\n",
       "      <td>Desk</td>\n",
       "      <td>Level 9</td>\n",
       "      <td>Sky Branch</td>\n",
       "      <td>B5_9_2_07</td>\n",
       "      <td>0</td>\n",
       "      <td>2018-03-01</td>\n",
       "    </tr>\n",
       "  </tbody>\n",
       "</table>\n",
       "</div>"
      ],
      "text/plain": [
       "  Country Location Resource Type    floor  Department   seatName  Space  \\\n",
       "0   India  Tower 2          Desk  Level 9  Sky Branch  B5_9_1_02      0   \n",
       "1   India  Tower 2          Desk  Level 9  Sky Branch  B5_9_2_02      0   \n",
       "2   India  Tower 2          Desk  Level 9  Sky Branch  B5_9_2_07      0   \n",
       "\n",
       "    Datetime  \n",
       "0 2018-03-01  \n",
       "1 2018-03-01  \n",
       "2 2018-03-01  "
      ]
     },
     "execution_count": 2,
     "metadata": {},
     "output_type": "execute_result"
    }
   ],
   "source": [
    "import pickle\n",
    "data=pickle.load(open('processed_data.p', \"rb\" ))\n",
    "data.head(3)"
   ]
  },
  {
   "cell_type": "code",
   "execution_count": 14,
   "metadata": {
    "scrolled": true
   },
   "outputs": [
    {
     "name": "stdout",
     "output_type": "stream",
     "text": [
      "4464\n"
     ]
    }
   ],
   "source": [
    "trial_data=data.loc[data['seatName']=='B5_9_1_05']\n",
    "print(len(trial_data))\n",
    "trial_data=trial_data.sort_values(['Datetime'])\n",
    "trial_data=trial_data.drop(['Country','Location','Resource Type','floor','Department','seatName','Datetime'],axis=1)\n",
    "trial_data=trial_data.values\n",
    "#trial_data.set_index('Datetime',inplace=True)"
   ]
  },
  {
   "cell_type": "code",
   "execution_count": null,
   "metadata": {
    "scrolled": true
   },
   "outputs": [],
   "source": []
  },
  {
   "cell_type": "code",
   "execution_count": 15,
   "metadata": {},
   "outputs": [
    {
     "name": "stdout",
     "output_type": "stream",
     "text": [
      "3794 3794 670\n"
     ]
    }
   ],
   "source": [
    "train_size=int(len(trial_data)*0.85)\n",
    "train_data,test_data=trial_data[0:train_size,:], trial_data[train_size:len(trial_data),:]\n",
    "print(train_size,len(train_data),len(test_data))"
   ]
  },
  {
   "cell_type": "code",
   "execution_count": 16,
   "metadata": {},
   "outputs": [],
   "source": [
    "# convert an array of values into a dataset matrix\n",
    "def create_dataset(dataset, look_back=1):\n",
    "    dataX, dataY = [], []\n",
    "    for i in range(len(dataset)-look_back-1):\n",
    "        a = dataset[i:(i+look_back), 0]\n",
    "        dataX.append(a)\n",
    "        dataY.append(dataset[i + look_back, 0])\n",
    "    return np.array(dataX), np.array(dataY)"
   ]
  },
  {
   "cell_type": "code",
   "execution_count": 17,
   "metadata": {},
   "outputs": [
    {
     "name": "stdout",
     "output_type": "stream",
     "text": [
      "[[0]\n",
      " [0]\n",
      " [0]\n",
      " ...\n",
      " [0]\n",
      " [0]\n",
      " [0]]\n"
     ]
    }
   ],
   "source": [
    "# reshape into X=t and Y=t+1\n",
    "look_back = 1\n",
    "X_train, y_train = create_dataset(train_data, look_back)\n",
    "print(X_train)\n",
    "X_test, y_test = create_dataset(test_data, look_back)"
   ]
  },
  {
   "cell_type": "code",
   "execution_count": 18,
   "metadata": {},
   "outputs": [],
   "source": [
    "# reshape input to be [samples, time steps, features]\n",
    "X_train = np.reshape(X_train, (X_train.shape[0], 1, X_train.shape[1]))\n",
    "X_test = np.reshape(X_test, (X_test.shape[0], 1, X_test.shape[1]))"
   ]
  },
  {
   "cell_type": "code",
   "execution_count": 44,
   "metadata": {
    "scrolled": true
   },
   "outputs": [
    {
     "name": "stdout",
     "output_type": "stream",
     "text": [
      "Train on 3792 samples, validate on 668 samples\n",
      "Epoch 1/100\n",
      "3792/3792 [==============================] - 2s 425us/step - loss: 0.6563 - acc: 0.8808 - val_loss: 0.6213 - val_acc: 0.8458\n",
      "Epoch 2/100\n",
      "3792/3792 [==============================] - 1s 181us/step - loss: 0.5699 - acc: 0.8808 - val_loss: 0.5376 - val_acc: 0.8458\n",
      "Epoch 3/100\n",
      "3792/3792 [==============================] - 1s 180us/step - loss: 0.4776 - acc: 0.8808 - val_loss: 0.4566 - val_acc: 0.8458\n",
      "Epoch 4/100\n",
      "3792/3792 [==============================] - 1s 182us/step - loss: 0.3965 - acc: 0.8808 - val_loss: 0.3928 - val_acc: 0.8458\n",
      "Epoch 5/100\n",
      "3792/3792 [==============================] - 1s 187us/step - loss: 0.3364 - acc: 0.8808 - val_loss: 0.3468 - val_acc: 0.8458\n",
      "Epoch 6/100\n",
      "3792/3792 [==============================] - 1s 180us/step - loss: 0.2937 - acc: 0.8808 - val_loss: 0.3123 - val_acc: 0.8458\n",
      "Epoch 7/100\n",
      "3792/3792 [==============================] - 1s 177us/step - loss: 0.2621 - acc: 0.8808 - val_loss: 0.2848 - val_acc: 0.8458\n",
      "Epoch 8/100\n",
      "3792/3792 [==============================] - 1s 180us/step - loss: 0.2379 - acc: 0.8808 - val_loss: 0.2631 - val_acc: 0.8458\n",
      "Epoch 9/100\n",
      "3792/3792 [==============================] - 1s 185us/step - loss: 0.2195 - acc: 0.9473 - val_loss: 0.2469 - val_acc: 0.9341\n",
      "Epoch 10/100\n",
      "3792/3792 [==============================] - 1s 184us/step - loss: 0.2062 - acc: 0.9473 - val_loss: 0.2357 - val_acc: 0.9341\n",
      "Epoch 11/100\n",
      "3792/3792 [==============================] - 1s 192us/step - loss: 0.1971 - acc: 0.9473 - val_loss: 0.2285 - val_acc: 0.9341\n",
      "Epoch 12/100\n",
      "3792/3792 [==============================] - 1s 186us/step - loss: 0.1913 - acc: 0.9473 - val_loss: 0.2243 - val_acc: 0.9341\n",
      "Epoch 13/100\n",
      "3792/3792 [==============================] - 1s 196us/step - loss: 0.1877 - acc: 0.9473 - val_loss: 0.2220 - val_acc: 0.9341\n",
      "Epoch 14/100\n",
      "3792/3792 [==============================] - 1s 211us/step - loss: 0.1854 - acc: 0.9473 - val_loss: 0.2207 - val_acc: 0.9341\n",
      "Epoch 15/100\n",
      "3792/3792 [==============================] - 1s 182us/step - loss: 0.1841 - acc: 0.9473 - val_loss: 0.2200 - val_acc: 0.9341\n",
      "Epoch 16/100\n",
      "3792/3792 [==============================] - 1s 190us/step - loss: 0.1832 - acc: 0.9473 - val_loss: 0.2197 - val_acc: 0.9341\n",
      "Epoch 17/100\n",
      "3792/3792 [==============================] - 1s 182us/step - loss: 0.1827 - acc: 0.9473 - val_loss: 0.2196 - val_acc: 0.9341\n",
      "Epoch 18/100\n",
      "3792/3792 [==============================] - 1s 212us/step - loss: 0.1824 - acc: 0.9473 - val_loss: 0.2196 - val_acc: 0.9341\n",
      "Epoch 19/100\n",
      "3792/3792 [==============================] - 1s 198us/step - loss: 0.1822 - acc: 0.9473 - val_loss: 0.2196 - val_acc: 0.9341\n",
      "Epoch 20/100\n",
      "3792/3792 [==============================] - 1s 189us/step - loss: 0.1821 - acc: 0.9473 - val_loss: 0.2197 - val_acc: 0.9341\n",
      "Epoch 21/100\n",
      "3792/3792 [==============================] - 1s 185us/step - loss: 0.1820 - acc: 0.9473 - val_loss: 0.2198 - val_acc: 0.9341\n",
      "Epoch 22/100\n",
      "3792/3792 [==============================] - 1s 186us/step - loss: 0.1820 - acc: 0.9473 - val_loss: 0.2198 - val_acc: 0.9341\n",
      "Epoch 23/100\n",
      "3792/3792 [==============================] - 1s 184us/step - loss: 0.1819 - acc: 0.9473 - val_loss: 0.2199 - val_acc: 0.9341\n",
      "Epoch 24/100\n",
      "3792/3792 [==============================] - 1s 187us/step - loss: 0.1819 - acc: 0.9473 - val_loss: 0.2199 - val_acc: 0.9341\n",
      "Epoch 25/100\n",
      "3792/3792 [==============================] - 1s 198us/step - loss: 0.1819 - acc: 0.9473 - val_loss: 0.2199 - val_acc: 0.9341\n",
      "Epoch 26/100\n",
      "3792/3792 [==============================] - 1s 205us/step - loss: 0.1819 - acc: 0.9473 - val_loss: 0.2199 - val_acc: 0.9341\n",
      "Epoch 27/100\n",
      "3792/3792 [==============================] - 1s 197us/step - loss: 0.1819 - acc: 0.9473 - val_loss: 0.2200 - val_acc: 0.9341\n",
      "Epoch 28/100\n",
      "3792/3792 [==============================] - 1s 186us/step - loss: 0.1819 - acc: 0.9473 - val_loss: 0.2200 - val_acc: 0.9341\n",
      "Epoch 29/100\n",
      "3792/3792 [==============================] - 1s 187us/step - loss: 0.1819 - acc: 0.9473 - val_loss: 0.2200 - val_acc: 0.9341\n",
      "Epoch 30/100\n",
      "3792/3792 [==============================] - 1s 182us/step - loss: 0.1819 - acc: 0.9473 - val_loss: 0.2200 - val_acc: 0.9341\n",
      "Epoch 31/100\n",
      "3792/3792 [==============================] - 1s 184us/step - loss: 0.1819 - acc: 0.9473 - val_loss: 0.2200 - val_acc: 0.9341\n",
      "Epoch 32/100\n",
      "3792/3792 [==============================] - 1s 194us/step - loss: 0.1819 - acc: 0.9473 - val_loss: 0.2200 - val_acc: 0.9341\n",
      "Epoch 33/100\n",
      "3792/3792 [==============================] - 1s 196us/step - loss: 0.1819 - acc: 0.9473 - val_loss: 0.2200 - val_acc: 0.9341\n",
      "Epoch 34/100\n",
      "3792/3792 [==============================] - 1s 188us/step - loss: 0.1819 - acc: 0.9473 - val_loss: 0.2200 - val_acc: 0.9341\n",
      "Epoch 35/100\n",
      "3792/3792 [==============================] - 1s 181us/step - loss: 0.1819 - acc: 0.9473 - val_loss: 0.2200 - val_acc: 0.9341\n",
      "Epoch 36/100\n",
      "3792/3792 [==============================] - 1s 181us/step - loss: 0.1819 - acc: 0.9473 - val_loss: 0.2200 - val_acc: 0.9341\n",
      "Epoch 37/100\n",
      "3792/3792 [==============================] - 1s 180us/step - loss: 0.1819 - acc: 0.9473 - val_loss: 0.2200 - val_acc: 0.9341\n",
      "Epoch 38/100\n",
      "3792/3792 [==============================] - 1s 180us/step - loss: 0.1819 - acc: 0.9473 - val_loss: 0.2200 - val_acc: 0.9341\n",
      "Epoch 39/100\n",
      "3792/3792 [==============================] - 1s 177us/step - loss: 0.1819 - acc: 0.9473 - val_loss: 0.2200 - val_acc: 0.9341\n",
      "Epoch 40/100\n",
      "3792/3792 [==============================] - 1s 189us/step - loss: 0.1819 - acc: 0.9473 - val_loss: 0.2200 - val_acc: 0.9341\n",
      "Epoch 41/100\n",
      "3792/3792 [==============================] - 1s 185us/step - loss: 0.1819 - acc: 0.9473 - val_loss: 0.2200 - val_acc: 0.9341\n",
      "Epoch 42/100\n",
      "3792/3792 [==============================] - 1s 194us/step - loss: 0.1819 - acc: 0.9473 - val_loss: 0.2200 - val_acc: 0.9341\n",
      "Epoch 43/100\n",
      "3792/3792 [==============================] - 1s 190us/step - loss: 0.1819 - acc: 0.9473 - val_loss: 0.2200 - val_acc: 0.9341\n",
      "Epoch 44/100\n",
      "3792/3792 [==============================] - 1s 202us/step - loss: 0.1819 - acc: 0.9473 - val_loss: 0.2200 - val_acc: 0.9341\n",
      "Epoch 45/100\n",
      "3792/3792 [==============================] - 1s 212us/step - loss: 0.1819 - acc: 0.9473 - val_loss: 0.2200 - val_acc: 0.9341\n",
      "Epoch 46/100\n",
      "3792/3792 [==============================] - 1s 214us/step - loss: 0.1819 - acc: 0.9473 - val_loss: 0.2200 - val_acc: 0.9341\n",
      "Epoch 47/100\n",
      "3792/3792 [==============================] - 1s 184us/step - loss: 0.1819 - acc: 0.9473 - val_loss: 0.2200 - val_acc: 0.9341\n",
      "Epoch 48/100\n",
      "3792/3792 [==============================] - 1s 182us/step - loss: 0.1819 - acc: 0.9473 - val_loss: 0.2200 - val_acc: 0.9341\n",
      "Epoch 49/100\n",
      "3792/3792 [==============================] - 1s 211us/step - loss: 0.1819 - acc: 0.9473 - val_loss: 0.2200 - val_acc: 0.9341\n",
      "Epoch 50/100\n",
      "3792/3792 [==============================] - 1s 185us/step - loss: 0.1819 - acc: 0.9473 - val_loss: 0.2200 - val_acc: 0.9341\n",
      "Epoch 51/100\n",
      "3792/3792 [==============================] - 1s 180us/step - loss: 0.1819 - acc: 0.9473 - val_loss: 0.2200 - val_acc: 0.9341\n",
      "Epoch 52/100\n",
      "3792/3792 [==============================] - 1s 223us/step - loss: 0.1819 - acc: 0.9473 - val_loss: 0.2200 - val_acc: 0.9341\n",
      "Epoch 53/100\n",
      "3792/3792 [==============================] - 1s 197us/step - loss: 0.1819 - acc: 0.9473 - val_loss: 0.2200 - val_acc: 0.9341\n",
      "Epoch 54/100\n",
      "3792/3792 [==============================] - 1s 185us/step - loss: 0.1819 - acc: 0.9473 - val_loss: 0.2200 - val_acc: 0.9341\n",
      "Epoch 55/100\n",
      "3792/3792 [==============================] - 1s 202us/step - loss: 0.1819 - acc: 0.9473 - val_loss: 0.2200 - val_acc: 0.9341\n",
      "Epoch 56/100\n",
      "3792/3792 [==============================] - 1s 209us/step - loss: 0.1819 - acc: 0.9473 - val_loss: 0.2200 - val_acc: 0.9341\n",
      "Epoch 57/100\n",
      "3792/3792 [==============================] - 1s 184us/step - loss: 0.1819 - acc: 0.9473 - val_loss: 0.2200 - val_acc: 0.9341\n",
      "Epoch 58/100\n",
      "3792/3792 [==============================] - 1s 188us/step - loss: 0.1819 - acc: 0.9473 - val_loss: 0.2200 - val_acc: 0.9341\n",
      "Epoch 59/100\n",
      "3792/3792 [==============================] - 1s 197us/step - loss: 0.1819 - acc: 0.9473 - val_loss: 0.2200 - val_acc: 0.9341\n",
      "Epoch 60/100\n"
     ]
    },
    {
     "name": "stdout",
     "output_type": "stream",
     "text": [
      "3792/3792 [==============================] - 1s 184us/step - loss: 0.1819 - acc: 0.9473 - val_loss: 0.2200 - val_acc: 0.9341\n",
      "Epoch 61/100\n",
      "3792/3792 [==============================] - 1s 180us/step - loss: 0.1819 - acc: 0.9473 - val_loss: 0.2200 - val_acc: 0.9341\n",
      "Epoch 62/100\n",
      "3792/3792 [==============================] - 1s 186us/step - loss: 0.1819 - acc: 0.9473 - val_loss: 0.2200 - val_acc: 0.9341\n",
      "Epoch 63/100\n",
      "3792/3792 [==============================] - 1s 196us/step - loss: 0.1819 - acc: 0.9473 - val_loss: 0.2200 - val_acc: 0.9341\n",
      "Epoch 64/100\n",
      "3792/3792 [==============================] - 1s 179us/step - loss: 0.1819 - acc: 0.9473 - val_loss: 0.2200 - val_acc: 0.9341\n",
      "Epoch 65/100\n",
      "3792/3792 [==============================] - 1s 173us/step - loss: 0.1819 - acc: 0.9473 - val_loss: 0.2200 - val_acc: 0.9341\n",
      "Epoch 66/100\n",
      "3792/3792 [==============================] - 1s 179us/step - loss: 0.1819 - acc: 0.9473 - val_loss: 0.2200 - val_acc: 0.9341\n",
      "Epoch 67/100\n",
      "3792/3792 [==============================] - 1s 181us/step - loss: 0.1819 - acc: 0.9473 - val_loss: 0.2200 - val_acc: 0.9341\n",
      "Epoch 68/100\n",
      "3792/3792 [==============================] - 1s 175us/step - loss: 0.1819 - acc: 0.9473 - val_loss: 0.2200 - val_acc: 0.9341\n",
      "Epoch 69/100\n",
      "3792/3792 [==============================] - 1s 180us/step - loss: 0.1819 - acc: 0.9473 - val_loss: 0.2200 - val_acc: 0.9341\n",
      "Epoch 70/100\n",
      "3792/3792 [==============================] - 1s 187us/step - loss: 0.1819 - acc: 0.9473 - val_loss: 0.2200 - val_acc: 0.9341\n",
      "Epoch 71/100\n",
      "3792/3792 [==============================] - 1s 184us/step - loss: 0.1819 - acc: 0.9473 - val_loss: 0.2200 - val_acc: 0.9341\n",
      "Epoch 72/100\n",
      "3792/3792 [==============================] - 1s 186us/step - loss: 0.1819 - acc: 0.9473 - val_loss: 0.2200 - val_acc: 0.9341\n",
      "Epoch 73/100\n",
      "3792/3792 [==============================] - 1s 204us/step - loss: 0.1819 - acc: 0.9473 - val_loss: 0.2200 - val_acc: 0.9341\n",
      "Epoch 74/100\n",
      "3792/3792 [==============================] - 1s 176us/step - loss: 0.1819 - acc: 0.9473 - val_loss: 0.2200 - val_acc: 0.9341\n",
      "Epoch 75/100\n",
      "3792/3792 [==============================] - 1s 179us/step - loss: 0.1819 - acc: 0.9473 - val_loss: 0.2200 - val_acc: 0.9341\n",
      "Epoch 76/100\n",
      "3792/3792 [==============================] - 1s 196us/step - loss: 0.1819 - acc: 0.9473 - val_loss: 0.2200 - val_acc: 0.9341\n",
      "Epoch 77/100\n",
      "3792/3792 [==============================] - 1s 178us/step - loss: 0.1819 - acc: 0.9473 - val_loss: 0.2200 - val_acc: 0.9341\n",
      "Epoch 78/100\n",
      "3792/3792 [==============================] - 1s 180us/step - loss: 0.1819 - acc: 0.9473 - val_loss: 0.2200 - val_acc: 0.9341\n",
      "Epoch 79/100\n",
      "3792/3792 [==============================] - 1s 185us/step - loss: 0.1819 - acc: 0.9473 - val_loss: 0.2200 - val_acc: 0.9341\n",
      "Epoch 80/100\n",
      "3792/3792 [==============================] - 1s 178us/step - loss: 0.1819 - acc: 0.9473 - val_loss: 0.2200 - val_acc: 0.9341\n",
      "Epoch 81/100\n",
      "3792/3792 [==============================] - 1s 195us/step - loss: 0.1819 - acc: 0.9473 - val_loss: 0.2200 - val_acc: 0.9341\n",
      "Epoch 82/100\n",
      "3792/3792 [==============================] - 1s 187us/step - loss: 0.1819 - acc: 0.9473 - val_loss: 0.2200 - val_acc: 0.9341\n",
      "Epoch 83/100\n",
      "3792/3792 [==============================] - 1s 186us/step - loss: 0.1819 - acc: 0.9473 - val_loss: 0.2200 - val_acc: 0.9341\n",
      "Epoch 84/100\n",
      "3792/3792 [==============================] - 1s 188us/step - loss: 0.1819 - acc: 0.9473 - val_loss: 0.2200 - val_acc: 0.9341\n",
      "Epoch 85/100\n",
      "3792/3792 [==============================] - 1s 176us/step - loss: 0.1819 - acc: 0.9473 - val_loss: 0.2200 - val_acc: 0.9341\n",
      "Epoch 86/100\n",
      "3792/3792 [==============================] - 1s 186us/step - loss: 0.1819 - acc: 0.9473 - val_loss: 0.2200 - val_acc: 0.9341\n",
      "Epoch 87/100\n",
      "3792/3792 [==============================] - 1s 180us/step - loss: 0.1819 - acc: 0.9473 - val_loss: 0.2200 - val_acc: 0.9341\n",
      "Epoch 88/100\n",
      "3792/3792 [==============================] - 1s 180us/step - loss: 0.1819 - acc: 0.9473 - val_loss: 0.2200 - val_acc: 0.9341\n",
      "Epoch 89/100\n",
      "3792/3792 [==============================] - 1s 181us/step - loss: 0.1819 - acc: 0.9473 - val_loss: 0.2200 - val_acc: 0.9341\n",
      "Epoch 90/100\n",
      "3792/3792 [==============================] - 1s 186us/step - loss: 0.1819 - acc: 0.9473 - val_loss: 0.2200 - val_acc: 0.9341\n",
      "Epoch 91/100\n",
      "3792/3792 [==============================] - 1s 185us/step - loss: 0.1819 - acc: 0.9473 - val_loss: 0.2200 - val_acc: 0.9341\n",
      "Epoch 92/100\n",
      "3792/3792 [==============================] - 1s 176us/step - loss: 0.1819 - acc: 0.9473 - val_loss: 0.2200 - val_acc: 0.9341\n",
      "Epoch 93/100\n",
      "3792/3792 [==============================] - 1s 182us/step - loss: 0.1819 - acc: 0.9473 - val_loss: 0.2200 - val_acc: 0.9341\n",
      "Epoch 94/100\n",
      "3792/3792 [==============================] - 1s 194us/step - loss: 0.1819 - acc: 0.9473 - val_loss: 0.2200 - val_acc: 0.9341\n",
      "Epoch 95/100\n",
      "3792/3792 [==============================] - 1s 181us/step - loss: 0.1819 - acc: 0.9473 - val_loss: 0.2200 - val_acc: 0.9341\n",
      "Epoch 96/100\n",
      "3792/3792 [==============================] - 1s 179us/step - loss: 0.1819 - acc: 0.9473 - val_loss: 0.2200 - val_acc: 0.9341\n",
      "Epoch 97/100\n",
      "3792/3792 [==============================] - 1s 192us/step - loss: 0.1819 - acc: 0.9473 - val_loss: 0.2200 - val_acc: 0.9341\n",
      "Epoch 98/100\n",
      "3792/3792 [==============================] - 1s 192us/step - loss: 0.1819 - acc: 0.9473 - val_loss: 0.2200 - val_acc: 0.9341\n",
      "Epoch 99/100\n",
      "3792/3792 [==============================] - 1s 193us/step - loss: 0.1819 - acc: 0.9473 - val_loss: 0.2200 - val_acc: 0.9341\n",
      "Epoch 100/100\n",
      "3792/3792 [==============================] - 1s 187us/step - loss: 0.1819 - acc: 0.9473 - val_loss: 0.2200 - val_acc: 0.9341\n"
     ]
    },
    {
     "data": {
      "text/plain": [
       "<keras.callbacks.History at 0x260a6056f28>"
      ]
     },
     "execution_count": 44,
     "metadata": {},
     "output_type": "execute_result"
    }
   ],
   "source": [
    "from keras.models import Sequential\n",
    "from keras.layers import LSTM,Conv1D,Dense\n",
    "from keras.layers.normalization import BatchNormalization\n",
    "\n",
    "def arch():\n",
    "    seq = Sequential()\n",
    "    #seq.add(LSTM(4,input_shape=(1,look_back)))\n",
    "    seq.add(LSTM(8,input_shape=(1,look_back)))\n",
    "\n",
    "    seq.add(Dense(1, activation='sigmoid'))\n",
    "    seq.compile(loss='binary_crossentropy',\n",
    "              optimizer='adam',\n",
    "              metrics=['accuracy'])\n",
    "    return seq\n",
    "\n",
    "\n",
    "model=arch()\n",
    "batch_size = 32\n",
    "model.fit(X_train, y_train,\n",
    "          batch_size=batch_size,\n",
    "          epochs=100,shuffle=False,\n",
    "          validation_data=(X_test, y_test))\n"
   ]
  },
  {
   "cell_type": "code",
   "execution_count": 42,
   "metadata": {},
   "outputs": [
    {
     "name": "stdout",
     "output_type": "stream",
     "text": [
      "668/668 [==============================] - 0s 96us/step\n",
      "Test score: 0.22009943301850807\n",
      "Test accuracy: 0.9341317365269461\n"
     ]
    }
   ],
   "source": [
    "score, acc = model.evaluate(X_test, y_test, batch_size=batch_size)\n",
    "print('Test score:', score)\n",
    "print('Test accuracy:', acc)"
   ]
  },
  {
   "cell_type": "code",
   "execution_count": null,
   "metadata": {},
   "outputs": [],
   "source": []
  },
  {
   "cell_type": "code",
   "execution_count": 32,
   "metadata": {},
   "outputs": [
    {
     "data": {
      "image/png": "[encoded data removed]",
      "text/plain": [
       "<Figure size 432x288 with 1 Axes>"
      ]
     },
     "metadata": {},
     "output_type": "display_data"
    }
   ],
   "source": [
    "import matplotlib.pyplot as plt\n",
    "testPredict = model.predict(X_test)\n",
    "plt.plot(testPredict[300:400],color='r')\n",
    "plt.plot(y_test[300:400])\n",
    "plt.show();"
   ]
  },
  {
   "cell_type": "code",
   "execution_count": null,
   "metadata": {},
   "outputs": [],
   "source": []
  }
 ],
 "metadata": {
  "kernelspec": {
   "display_name": "Python 3",
   "language": "python",
   "name": "python3"
  },
  "language_info": {
   "codemirror_mode": {
    "name": "ipython",
    "version": 3
   },
   "file_extension": ".py",
   "mimetype": "text/x-python",
   "name": "python",
   "nbconvert_exporter": "python",
   "pygments_lexer": "ipython3",
   "version": "3.6.1"
  }
 },
 "nbformat": 4,
 "nbformat_minor": 2
}
